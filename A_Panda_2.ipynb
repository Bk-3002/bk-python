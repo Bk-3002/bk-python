{
 "cells": [
  {
   "cell_type": "code",
   "execution_count": 1,
   "id": "396f5b86",
   "metadata": {},
   "outputs": [
    {
     "name": "stdout",
     "output_type": "stream",
     "text": [
      "head() example:\n",
      "   A   B      C\n",
      "0  1  10    one\n",
      "1  2  20    two\n",
      "2  3  30  three\n",
      "\n",
      "describe() example:\n",
      "              A          B\n",
      "count  5.000000   5.000000\n",
      "mean   3.000000  30.000000\n",
      "std    1.581139  15.811388\n",
      "min    1.000000  10.000000\n",
      "25%    2.000000  20.000000\n",
      "50%    3.000000  30.000000\n",
      "75%    4.000000  40.000000\n",
      "max    5.000000  50.000000\n",
      "\n",
      "drop() example:\n",
      "   A   B\n",
      "0  1  10\n",
      "1  2  20\n",
      "2  3  30\n",
      "3  4  40\n",
      "4  5  50\n",
      "\n",
      "groupby() example:\n",
      "    B\n",
      "A    \n",
      "1  10\n",
      "2  20\n",
      "3  30\n",
      "4  40\n",
      "5  50\n",
      "\n",
      "merge() example:\n",
      "   A   B      C    D\n",
      "0  3  30  three  100\n",
      "1  4  40   four  200\n",
      "2  5  50   five  300\n"
     ]
    }
   ],
   "source": [
    "import pandas as pd\n",
    "\n",
    "# Creating a sample DataFrame for demonstration\n",
    "data = {\n",
    "    'A': [1, 2, 3, 4, 5],\n",
    "    'B': [10, 20, 30, 40, 50],\n",
    "    'C': ['one', 'two', 'three', 'four', 'five']\n",
    "}\n",
    "df = pd.DataFrame(data)\n",
    "\n",
    "# 1. head() - Returns the first n rows of the DataFrame\n",
    "print(\"head() example:\")\n",
    "print(df.head(3))\n",
    "\n",
    "# 2. describe() - Generates descriptive statistics\n",
    "print(\"\\ndescribe() example:\")\n",
    "print(df.describe())\n",
    "\n",
    "# 3. drop() - Removes rows or columns\n",
    "print(\"\\ndrop() example:\")\n",
    "print(df.drop(columns=['C']))\n",
    "\n",
    "# 4. groupby() - Groups the data based on some criteria\n",
    "print(\"\\ngroupby() example:\")\n",
    "print(df.groupby('A').sum())\n",
    "\n",
    "# 5. merge() - Merges two DataFrames\n",
    "df2 = pd.DataFrame({\n",
    "    'A': [3, 4, 5, 6, 7],\n",
    "    'D': [100, 200, 300, 400, 500]\n",
    "})\n",
    "print(\"\\nmerge() example:\")\n",
    "print(pd.merge(df, df2, on='A', how='inner'))\n"
   ]
  },
  {
   "cell_type": "code",
   "execution_count": 2,
   "id": "9ae58f59",
   "metadata": {},
   "outputs": [
    {
     "name": "stdout",
     "output_type": "stream",
     "text": [
      "   A  B  C\n",
      "1  1  4  7\n",
      "3  2  5  8\n",
      "5  3  6  9\n"
     ]
    }
   ],
   "source": [
    "def reindex_dataframe(df):\n",
    "    new_index = range(1, 2 * len(df) + 1, 2)\n",
    "    df.index = new_index\n",
    "    return df\n",
    "\n",
    "# Sample DataFrame\n",
    "df = pd.DataFrame({\n",
    "    'A': [1, 2, 3],\n",
    "    'B': [4, 5, 6],\n",
    "    'C': [7, 8, 9]\n",
    "})\n",
    "\n",
    "# Re-indexing the DataFrame\n",
    "reindexed_df = reindex_dataframe(df)\n",
    "print(reindexed_df)\n"
   ]
  },
  {
   "cell_type": "code",
   "execution_count": 3,
   "id": "b4d58eeb",
   "metadata": {},
   "outputs": [
    {
     "name": "stdout",
     "output_type": "stream",
     "text": [
      "60\n"
     ]
    }
   ],
   "source": [
    "def sum_first_three(df):\n",
    "    sum_values = df['Values'][:3].sum()\n",
    "    print(sum_values)\n",
    "\n",
    "# Sample DataFrame\n",
    "df = pd.DataFrame({'Values': [10, 20, 30, 40, 50]})\n",
    "\n",
    "# Calculating the sum of the first three values\n",
    "sum_first_three(df)\n"
   ]
  },
  {
   "cell_type": "code",
   "execution_count": 4,
   "id": "26387988",
   "metadata": {},
   "outputs": [
    {
     "name": "stdout",
     "output_type": "stream",
     "text": [
      "                  Text  Word_Count\n",
      "0          Hello world           2\n",
      "1      Pandas is great           3\n",
      "2  Data science is fun           4\n"
     ]
    }
   ],
   "source": [
    "def add_word_count_column(df):\n",
    "    df['Word_Count'] = df['Text'].apply(lambda x: len(str(x).split()))\n",
    "    return df\n",
    "\n",
    "# Sample DataFrame\n",
    "df = pd.DataFrame({'Text': ['Hello world', 'Pandas is great', 'Data science is fun']})\n",
    "\n",
    "# Adding 'Word_Count' column\n",
    "df_with_word_count = add_word_count_column(df)\n",
    "print(df_with_word_count)\n"
   ]
  },
  {
   "cell_type": "code",
   "execution_count": 5,
   "id": "9e2088ac",
   "metadata": {},
   "outputs": [
    {
     "name": "stdout",
     "output_type": "stream",
     "text": [
      "Size: 6\n",
      "Shape: (3, 2)\n"
     ]
    }
   ],
   "source": [
    "# Sample DataFrame\n",
    "df = pd.DataFrame({\n",
    "    'A': [1, 2, 3],\n",
    "    'B': [4, 5, 6]\n",
    "})\n",
    "\n",
    "# Size of the DataFrame\n",
    "print(\"Size:\", df.size)\n",
    "\n",
    "# Shape of the DataFrame\n",
    "print(\"Shape:\", df.shape)\n"
   ]
  },
  {
   "cell_type": "markdown",
   "id": "b419d536",
   "metadata": {},
   "source": [
    "Q6. Which function of pandas do we use to read an Excel file?\n",
    "The function used to read an Excel file in pandas is pd.read_excel()."
   ]
  },
  {
   "cell_type": "code",
   "execution_count": 6,
   "id": "55925896",
   "metadata": {},
   "outputs": [
    {
     "name": "stdout",
     "output_type": "stream",
     "text": [
      "                  Email    Username\n",
      "0  john.doe@example.com    john.doe\n",
      "1   jane.smith@test.com  jane.smith\n"
     ]
    }
   ],
   "source": [
    "def add_username_column(df):\n",
    "    df['Username'] = df['Email'].apply(lambda x: x.split('@')[0])\n",
    "    return df\n",
    "\n",
    "# Sample DataFrame\n",
    "df = pd.DataFrame({'Email': ['john.doe@example.com', 'jane.smith@test.com']})\n",
    "\n",
    "# Adding 'Username' column\n",
    "df_with_username = add_username_column(df)\n",
    "print(df_with_username)\n"
   ]
  },
  {
   "cell_type": "code",
   "execution_count": 7,
   "id": "fbb39565",
   "metadata": {},
   "outputs": [
    {
     "name": "stdout",
     "output_type": "stream",
     "text": [
      "   A  B  C\n",
      "1  8  2  7\n",
      "2  6  9  4\n",
      "4  9  1  2\n"
     ]
    }
   ],
   "source": [
    "def select_rows(df):\n",
    "    filtered_df = df[(df['A'] > 5) & (df['B'] < 10)]\n",
    "    return filtered_df\n",
    "\n",
    "# Sample DataFrame\n",
    "df = pd.DataFrame({\n",
    "    'A': [3, 8, 6, 2, 9],\n",
    "    'B': [5, 2, 9, 3, 1],\n",
    "    'C': [1, 7, 4, 5, 2]\n",
    "})\n",
    "\n",
    "# Selecting the rows\n",
    "selected_df = select_rows(df)\n",
    "print(selected_df)\n"
   ]
  },
  {
   "cell_type": "code",
   "execution_count": 8,
   "id": "b6998bea",
   "metadata": {},
   "outputs": [
    {
     "name": "stdout",
     "output_type": "stream",
     "text": [
      "Mean: 30.0, Median: 30.0, Std Dev: 15.811388300841896\n"
     ]
    }
   ],
   "source": [
    "def calculate_statistics(df):\n",
    "    mean_val = df['Values'].mean()\n",
    "    median_val = df['Values'].median()\n",
    "    std_dev_val = df['Values'].std()\n",
    "    return mean_val, median_val, std_dev_val\n",
    "\n",
    "# Sample DataFrame\n",
    "df = pd.DataFrame({'Values': [10, 20, 30, 40, 50]})\n",
    "\n",
    "# Calculating statistics\n",
    "mean_val, median_val, std_dev_val = calculate_statistics(df)\n",
    "print(f\"Mean: {mean_val}, Median: {median_val}, Std Dev: {std_dev_val}\")\n"
   ]
  },
  {
   "cell_type": "code",
   "execution_count": 9,
   "id": "7ef3ecab",
   "metadata": {},
   "outputs": [
    {
     "name": "stdout",
     "output_type": "stream",
     "text": [
      "        Date  Sales  MovingAverage\n",
      "0 2023-01-01    100     100.000000\n",
      "1 2023-01-02    200     150.000000\n",
      "2 2023-01-03    150     150.000000\n",
      "3 2023-01-04    300     187.500000\n",
      "4 2023-01-05    400     230.000000\n",
      "5 2023-01-06    500     275.000000\n",
      "6 2023-01-07    600     321.428571\n",
      "7 2023-01-08    700     407.142857\n",
      "8 2023-01-09    800     492.857143\n",
      "9 2023-01-10    900     600.000000\n"
     ]
    }
   ],
   "source": [
    "def add_moving_average(df):\n",
    "    df['MovingAverage'] = df['Sales'].rolling(window=7, min_periods=1).mean()\n",
    "    return df\n",
    "\n",
    "# Sample DataFrame\n",
    "data = {\n",
    "    'Date': pd.date_range(start='2023-01-01', periods=10, freq='D'),\n",
    "    'Sales': [100, 200, 150, 300, 400, 500, 600, 700, 800, 900]\n",
    "}\n",
    "df = pd.DataFrame(data)\n",
    "\n",
    "# Adding 'MovingAverage' column\n",
    "df_with_moving_average = add_moving_average(df)\n",
    "print(df_with_moving_average)\n"
   ]
  },
  {
   "cell_type": "code",
   "execution_count": 10,
   "id": "79825cb8",
   "metadata": {},
   "outputs": [
    {
     "name": "stdout",
     "output_type": "stream",
     "text": [
      "        Date    Weekday\n",
      "0 2023-01-01     Sunday\n",
      "1 2023-01-02     Monday\n",
      "2 2023-01-03    Tuesday\n",
      "3 2023-01-04  Wednesday\n",
      "4 2023-01-05   Thursday\n"
     ]
    }
   ],
   "source": [
    "def add_weekday_column(df):\n",
    "    df['Weekday'] = df['Date'].dt.day_name()\n",
    "    return df\n",
    "\n",
    "# Sample DataFrame\n",
    "df = pd.DataFrame({'Date': pd.date_range(start='2023-01-01', periods=5, freq='D')})\n",
    "\n",
    "# Adding 'Weekday' column\n",
    "df_with_weekday = add_weekday_column(df)\n",
    "print(df_with_weekday)\n"
   ]
  },
  {
   "cell_type": "code",
   "execution_count": 11,
   "id": "29005930",
   "metadata": {},
   "outputs": [
    {
     "name": "stdout",
     "output_type": "stream",
     "text": [
      "         Date  Values\n",
      "7  2023-01-01       7\n",
      "8  2023-01-02       8\n",
      "9  2023-01-03       9\n",
      "10 2023-01-04      10\n",
      "11 2023-01-05      11\n",
      "12 2023-01-06      12\n",
      "13 2023-01-07      13\n",
      "14 2023-01-08      14\n",
      "15 2023-01-09      15\n",
      "16 2023-01-10      16\n",
      "17 2023-01-11      17\n",
      "18 2023-01-12      18\n",
      "19 2023-01-13      19\n",
      "20 2023-01-14      20\n",
      "21 2023-01-15      21\n",
      "22 2023-01-16      22\n",
      "23 2023-01-17      23\n",
      "24 2023-01-18      24\n",
      "25 2023-01-19      25\n",
      "26 2023-01-20      26\n",
      "27 2023-01-21      27\n",
      "28 2023-01-22      28\n",
      "29 2023-01-23      29\n",
      "30 2023-01-24      30\n",
      "31 2023-01-25      31\n",
      "32 2023-01-26      32\n",
      "33 2023-01-27      33\n",
      "34 2023-01-28      34\n",
      "35 2023-01-29      35\n",
      "36 2023-01-30      36\n",
      "37 2023-01-31      37\n"
     ]
    }
   ],
   "source": [
    "def select_date_range(df):\n",
    "    filtered_df = df[(df['Date'] >= '2023-01-01') & (df['Date'] <= '2023-01-31')]\n",
    "    return filtered_df\n",
    "\n",
    "# Sample DataFrame\n",
    "data = {\n",
    "    'Date': pd.date_range(start='2022-12-25', periods=40, freq='D'),\n",
    "    'Values': range(40)\n",
    "}\n",
    "df = pd.DataFrame(data)\n",
    "\n",
    "# Selecting rows within the date range\n",
    "selected_df = select_date_range(df)\n",
    "print(selected_df)\n"
   ]
  },
  {
   "cell_type": "code",
   "execution_count": null,
   "id": "4a17574c",
   "metadata": {},
   "outputs": [],
   "source": []
  }
 ],
 "metadata": {
  "kernelspec": {
   "display_name": "Python 3 (ipykernel)",
   "language": "python",
   "name": "python3"
  },
  "language_info": {
   "codemirror_mode": {
    "name": "ipython",
    "version": 3
   },
   "file_extension": ".py",
   "mimetype": "text/x-python",
   "name": "python",
   "nbconvert_exporter": "python",
   "pygments_lexer": "ipython3",
   "version": "3.9.13"
  }
 },
 "nbformat": 4,
 "nbformat_minor": 5
}
