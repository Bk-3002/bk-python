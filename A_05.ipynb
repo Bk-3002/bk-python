{
 "cells": [
  {
   "cell_type": "markdown",
   "id": "87384f3b",
   "metadata": {},
   "source": [
    "#Q1"
   ]
  },
  {
   "cell_type": "markdown",
   "id": "4f63f265",
   "metadata": {},
   "source": [
    "An object is an instance of a class. It is a concrete entity based on the class blueprint, containing real values for the attributes defined by the class."
   ]
  },
  {
   "cell_type": "code",
   "execution_count": 3,
   "id": "adbe7272",
   "metadata": {},
   "outputs": [
    {
     "name": "stdout",
     "output_type": "stream",
     "text": [
      "Buddy\n",
      "Dolu is barking!\n"
     ]
    }
   ],
   "source": [
    "class Dog:\n",
    "    def __init__(self, name, breed):\n",
    "        self.name = name\n",
    "        self.breed = breed\n",
    "    \n",
    "    def bark(self):\n",
    "        print(f\"{self.name} is barking!\")\n",
    "\n",
    "dog1 = Dog(\"Buddy\", \"Golden Retriever\")\n",
    "dog2 = Dog(\"Dolu\", \"German Shepherd\")\n",
    "\n",
    "\n",
    "print(dog1.name)  \n",
    "dog2.bark()      \n"
   ]
  },
  {
   "cell_type": "markdown",
   "id": "f1ed9614",
   "metadata": {},
   "source": [
    "#Q2"
   ]
  },
  {
   "cell_type": "markdown",
   "id": "6e46cc4a",
   "metadata": {},
   "source": [
    "The four pillars of Object-Oriented Programming (OOP) are:\n",
    "\n",
    "Encapsulation: Bundling the data (attributes) and the methods that operate on the data into a single unit or class, and restricting direct access to some of the object's components.\n",
    "Abstraction: Hiding the complex implementation details and showing only the necessary features of the object.\n",
    "Inheritance: Creating new classes from existing classes.It allows the reuse of code and the creation of a hierarchical relationship between classes.\n",
    "Polymorphism: Allowing objects of different classes to be treated as objects of a common superclass. It supports method overriding and method overloading."
   ]
  },
  {
   "cell_type": "markdown",
   "id": "af624851",
   "metadata": {},
   "source": [
    "#Q3"
   ]
  },
  {
   "cell_type": "markdown",
   "id": "0c1b13a2",
   "metadata": {},
   "source": [
    "The __init__() function is known as the constructor.It is used to initialize the attributes of an object when it is created. "
   ]
  },
  {
   "cell_type": "code",
   "execution_count": 4,
   "id": "79d308d4",
   "metadata": {},
   "outputs": [
    {
     "name": "stdout",
     "output_type": "stream",
     "text": [
      "Buddy\n",
      "Buddy is barking!\n"
     ]
    }
   ],
   "source": [
    "class Dog:\n",
    "    def __init__(self, name, breed):\n",
    "        self.name = name\n",
    "        self.breed = breed\n",
    "    \n",
    "    def bark(self):\n",
    "        print(f\"{self.name} is barking!\")\n",
    "\n",
    "dog1 = Dog(\"Buddy\", \"Golden Retriever\")\n",
    "dog2 = Dog(\"Dolu\", \"German Shepherd\")\n",
    "\n",
    "\n",
    "print(dog1.name)  \n",
    "dog1.bark()      "
   ]
  },
  {
   "cell_type": "markdown",
   "id": "e0046b80",
   "metadata": {},
   "source": [
    "#Q4"
   ]
  },
  {
   "cell_type": "markdown",
   "id": "383dc397",
   "metadata": {},
   "source": [
    "self is used to refer to the instance of the class within the class itself. It allows access to the attributes and methods of the class in instance methods."
   ]
  },
  {
   "cell_type": "code",
   "execution_count": 5,
   "id": "26f071de",
   "metadata": {},
   "outputs": [
    {
     "name": "stdout",
     "output_type": "stream",
     "text": [
      "Car model: Toyota, Year: 2020\n"
     ]
    }
   ],
   "source": [
    "class Car:\n",
    "    def __init__(self, model, year):\n",
    "        self.model = model\n",
    "        self.year = year\n",
    "    \n",
    "    def display(self):\n",
    "        print(f\"Car model: {self.model}, Year: {self.year}\")\n",
    "\n",
    "car1 = Car(\"Toyota\", 2020)\n",
    "\n",
    "car1.display()  \n"
   ]
  },
  {
   "cell_type": "markdown",
   "id": "22d8ddc6",
   "metadata": {},
   "source": [
    "#Q5"
   ]
  },
  {
   "cell_type": "markdown",
   "id": "ec5c649e",
   "metadata": {},
   "source": [
    "Creating new classes from existing classes.It allows the reuse of code and the creation of a hierarchical relationship between classes."
   ]
  },
  {
   "cell_type": "code",
   "execution_count": 6,
   "id": "d66dd137",
   "metadata": {},
   "outputs": [
    {
     "name": "stdout",
     "output_type": "stream",
     "text": [
      "Eating\n",
      "Barking\n"
     ]
    }
   ],
   "source": [
    "#Single Inheritance\n",
    "class Animal:\n",
    "    def eat(self):\n",
    "        print(\"Eating\")\n",
    "\n",
    "class Dog(Animal):\n",
    "    def bark(self):\n",
    "        print(\"Barking\")\n",
    "\n",
    "dog = Dog()\n",
    "dog.eat()  \n",
    "dog.bark()"
   ]
  },
  {
   "cell_type": "code",
   "execution_count": 8,
   "id": "f3f031fc",
   "metadata": {},
   "outputs": [
    {
     "name": "stdout",
     "output_type": "stream",
     "text": [
      "Method A\n",
      "Method B\n"
     ]
    }
   ],
   "source": [
    "#Multiple Inheritance\n",
    "class A:\n",
    "    def a(self):\n",
    "        print(\"Method A\")\n",
    "\n",
    "class B:\n",
    "    def b(self):\n",
    "        print(\"Method B\")\n",
    "\n",
    "class C(A, B):\n",
    "    pass\n",
    "\n",
    "c = C()\n",
    "c.a()  \n",
    "c.b()  "
   ]
  },
  {
   "cell_type": "code",
   "execution_count": 9,
   "id": "e4371fed",
   "metadata": {},
   "outputs": [
    {
     "name": "stdout",
     "output_type": "stream",
     "text": [
      "Eating\n",
      "Walking\n",
      "Barking\n"
     ]
    }
   ],
   "source": [
    "#Multilevel Inheritance\n",
    "class Animal:\n",
    "    def eat(self):\n",
    "        print(\"Eating\")\n",
    "\n",
    "class Mammal(Animal):\n",
    "    def walk(self):\n",
    "        print(\"Walking\")\n",
    "\n",
    "class Dog(Mammal):\n",
    "    def bark(self):\n",
    "        print(\"Barking\")\n",
    "\n",
    "dog = Dog()\n",
    "dog.eat()   \n",
    "dog.walk()  \n",
    "dog.bark()  \n"
   ]
  },
  {
   "cell_type": "code",
   "execution_count": 11,
   "id": "75bada55",
   "metadata": {},
   "outputs": [
    {
     "name": "stdout",
     "output_type": "stream",
     "text": [
      "Eating\n",
      "Barking\n",
      "Eating\n",
      "Meow\n"
     ]
    }
   ],
   "source": [
    "#Hierarchical Inheritance\n",
    "class Animal:\n",
    "    def eat(self):\n",
    "        print(\"Eating\")\n",
    "\n",
    "class Dog(Animal):\n",
    "    def bark(self):\n",
    "        print(\"Barking\")\n",
    "\n",
    "class Cat(Animal):\n",
    "    def meow(self):\n",
    "        print(\"Meow\")\n",
    "\n",
    "dog = Dog()\n",
    "cat = Cat()\n",
    "dog.eat() \n",
    "dog.bark() \n",
    "cat.eat()  \n",
    "cat.meow() "
   ]
  },
  {
   "cell_type": "code",
   "execution_count": null,
   "id": "8025d0e2",
   "metadata": {},
   "outputs": [],
   "source": []
  }
 ],
 "metadata": {
  "kernelspec": {
   "display_name": "Python 3 (ipykernel)",
   "language": "python",
   "name": "python3"
  },
  "language_info": {
   "codemirror_mode": {
    "name": "ipython",
    "version": 3
   },
   "file_extension": ".py",
   "mimetype": "text/x-python",
   "name": "python",
   "nbconvert_exporter": "python",
   "pygments_lexer": "ipython3",
   "version": "3.9.13"
  }
 },
 "nbformat": 4,
 "nbformat_minor": 5
}
