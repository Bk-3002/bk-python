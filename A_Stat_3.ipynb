{
 "cells": [
  {
   "cell_type": "markdown",
   "id": "1216ad3f",
   "metadata": {},
   "source": [
    "Q1. What is the Probability Density Function?\n",
    "A Probability Density Function (PDF) is a function that describes the likelihood of a random variable to take on a particular value. For continuous random variables, the PDF is used to specify the probability of the variable falling within a particular range of values, as opposed to taking on any one value. The area under the PDF curve between two points gives the probability that the random variable falls within that interval.\n",
    "\n",
    "Q2. What are the types of Probability Distribution?\n",
    "The types of probability distributions can be broadly categorized into two classes: discrete and continuous distributions.\n",
    "\n",
    "Discrete Distributions:\n",
    "\n",
    "Binomial Distribution\n",
    "Poisson Distribution\n",
    "Geometric Distribution\n",
    "Negative Binomial Distribution\n",
    "Hypergeometric Distribution\n",
    "Continuous Distributions:\n",
    "\n",
    "Normal (Gaussian) Distribution\n",
    "Exponential Distribution\n",
    "Uniform Distribution\n",
    "Beta Distribution\n",
    "Gamma Distribution\n",
    "Log-normal Distribution\n",
    "Q3. Write a Python function to calculate the probability density function of a normal distribution with given mean and standard deviation at a given point."
   ]
  },
  {
   "cell_type": "code",
   "execution_count": 1,
   "id": "f3d6ecdb",
   "metadata": {},
   "outputs": [
    {
     "name": "stdout",
     "output_type": "stream",
     "text": [
      "The PDF value at x=1 for N(0, 1) is 0.32214418255673755\n"
     ]
    }
   ],
   "source": [
    "import math\n",
    "\n",
    "def normal_pdf(x, mean, std_dev):\n",
    "    coefficient = 1 / (std_dev * math.sqrt(2 * math.sqrt(math.pi)))\n",
    "    exponent = math.exp(-0.5 * ((x - mean) / std_dev) ** 2)\n",
    "    return coefficient * exponent\n",
    "\n",
    "mean = 0\n",
    "std_dev = 1\n",
    "x = 1\n",
    "pdf_value = normal_pdf(x, mean, std_dev)\n",
    "print(f\"The PDF value at x={x} for N({mean}, {std_dev}) is {pdf_value}\")"
   ]
  },
  {
   "cell_type": "markdown",
   "id": "4a433f3c",
   "metadata": {},
   "source": [
    "Q4. What are the properties of Binomial distribution? Give two examples of events where binomial distribution can be applied.\n",
    "Properties of Binomial Distribution:\n",
    "\n",
    "The number of trials \n",
    "𝑛\n",
    "n is fixed.\n",
    "Each trial has only two possible outcomes: success or failure.\n",
    "The probability of success \n",
    "𝑝\n",
    "p is the same for each trial.\n",
    "The trials are independent of each other.\n",
    "Examples:\n",
    "\n",
    "Tossing a Coin: If you toss a coin 10 times and count the number of heads.\n",
    "Quality Control: Checking 100 products in a batch where each product is either defective (failure) or not defective (success).\n",
    "Q5. Generate a random sample of size 1000 from a binomial distribution with a probability of success 0.4 and plot a histogram of the results using matplotlib."
   ]
  },
  {
   "cell_type": "code",
   "execution_count": 2,
   "id": "2a066a44",
   "metadata": {},
   "outputs": [
    {
     "data": {
      "image/png": "[encoded data removed]",
      "text/plain": [
       "<Figure size 640x480 with 1 Axes>"
      ]
     },
     "metadata": {},
     "output_type": "display_data"
    }
   ],
   "source": [
    "import numpy as np\n",
    "import matplotlib.pyplot as plt\n",
    "\n",
    "# Parameters\n",
    "n = 10\n",
    "p = 0.4\n",
    "size = 1000\n",
    "\n",
    "# Generate sample\n",
    "binomial_sample = np.random.binomial(n, p, size)\n",
    "\n",
    "# Plot histogram\n",
    "plt.hist(binomial_sample, bins=range(n+2), edgecolor='black', align='left')\n",
    "plt.title('Histogram of Binomial Distribution')\n",
    "plt.xlabel('Number of Successes')\n",
    "plt.ylabel('Frequency')\n",
    "plt.show()"
   ]
  },
  {
   "cell_type": "code",
   "execution_count": 3,
   "id": "62c9cb95",
   "metadata": {},
   "outputs": [
    {
     "name": "stdout",
     "output_type": "stream",
     "text": [
      "The CDF value at k=5 for Poisson distribution with mean=3 is 0.9160820579686966\n"
     ]
    }
   ],
   "source": [
    "import scipy.stats as stats\n",
    "\n",
    "def poisson_cdf(k, mean):\n",
    "    return stats.poisson.cdf(k, mean)\n",
    "\n",
    "# Example usage\n",
    "mean = 3\n",
    "k = 5\n",
    "cdf_value = poisson_cdf(k, mean)\n",
    "print(f\"The CDF value at k={k} for Poisson distribution with mean={mean} is {cdf_value}\")\n"
   ]
  },
  {
   "cell_type": "markdown",
   "id": "a7edeb6f",
   "metadata": {},
   "source": [
    "Q7. How is Binomial distribution different from Poisson distribution?\n",
    "Number of Trials:\n",
    "Binomial: Fixed number of trials \n",
    "𝑛\n",
    "n.\n",
    "Poisson: Potentially infinite number of trials.\n",
    "Probability of Success:\n",
    "Binomial: Probability of success \n",
    "𝑝\n",
    "p is fixed and does not change.\n",
    "Poisson: Derived from the average number of successes over a fixed interval or region.\n",
    "Use Case:\n",
    "Binomial: Used when we have a fixed number of independent trials, each with the same probability of success.\n",
    "Poisson: Used for counting the number of events that occur within a given interval of time or space."
   ]
  },
  {
   "cell_type": "code",
   "execution_count": 4,
   "id": "b5d74e29",
   "metadata": {},
   "outputs": [
    {
     "data": {
      "text/plain": [
       "(4.964, 4.536703999999999)"
      ]
     },
     "execution_count": 4,
     "metadata": {},
     "output_type": "execute_result"
    }
   ],
   "source": [
    "\n",
    "mean = 5\n",
    "size = 1000\n",
    "\n",
    "poisson_sample = np.random.poisson(mean, size)\n",
    "\n",
    "sample_mean = np.mean(poisson_sample)\n",
    "sample_variance = np.var(poisson_sample)\n",
    "\n",
    "sample_mean, sample_variance\n"
   ]
  },
  {
   "cell_type": "markdown",
   "id": "8534aa4c",
   "metadata": {},
   "source": [
    "Q9. How are mean and variance related in Binomial distribution and Poisson distribution?\n",
    "Binomial Distribution:\n",
    "\n",
    "Mean: \n",
    "μ=np\n",
    "Variance: \n",
    "𝜎 =np(1−p)\n",
    "Poisson Distribution:\n",
    "\n",
    "Mean: \n",
    "λ\n",
    "Variance: \n",
    "λ\n",
    "Q10. In normal distribution with respect to mean position, where does the least frequent data appear?\n",
    "In a normal distribution, the least frequent data appear in the tails, far from the mean. Specifically, the data points that are more than three standard deviations away from the mean are the least frequent."
   ]
  }
 ],
 "metadata": {
  "kernelspec": {
   "display_name": "Python 3 (ipykernel)",
   "language": "python",
   "name": "python3"
  },
  "language_info": {
   "codemirror_mode": {
    "name": "ipython",
    "version": 3
   },
   "file_extension": ".py",
   "mimetype": "text/x-python",
   "name": "python",
   "nbconvert_exporter": "python",
   "pygments_lexer": "ipython3",
   "version": "3.9.13"
  }
 },
 "nbformat": 4,
 "nbformat_minor": 5
}
