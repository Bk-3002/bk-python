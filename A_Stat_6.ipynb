{
 "cells": [
  {
   "cell_type": "code",
   "execution_count": 1,
   "id": "b7492055",
   "metadata": {},
   "outputs": [
    {
     "name": "stdout",
     "output_type": "stream",
     "text": [
      "95% confidence interval: (48.21, 51.79)\n"
     ]
    }
   ],
   "source": [
    "import numpy as np\n",
    "from scipy import stats\n",
    "\n",
    "sample_mean = 50\n",
    "std_dev = 5\n",
    "sample_size = 30\n",
    "confidence_level = 0.95\n",
    "\n",
    "z_critical = stats.norm.ppf(1 - (1 - confidence_level) / 2)\n",
    "se = std_dev / np.sqrt(sample_size)\n",
    "margin_of_error = z_critical * se\n",
    "ci_lower = sample_mean - margin_of_error\n",
    "ci_upper = sample_mean + margin_of_error\n",
    "\n",
    "print(f\"95% confidence interval: ({ci_lower:.2f}, {ci_upper:.2f})\")\n"
   ]
  },
  {
   "cell_type": "markdown",
   "id": "7b10f301",
   "metadata": {},
   "source": [
    "Margin of Error:\n",
    "The margin of error in a confidence interval quantifies the range of values above and below the sample statistic in a confidence interval. It represents the maximum amount by which the sample estimate may differ from the true population parameter.\n",
    "\n",
    "How Sample Size Affects the Margin of Error:\n",
    "The margin of error decreases as the sample size increases. This is because the standard error (SE) is inversely proportional to the square root of the sample size.\n",
    "Example:\n",
    "Consider estimating the mean height of adult males in a city. If a small sample of 25 individuals is used, the margin of error will be larger compared to a larger sample of 100 individuals, assuming the standard deviation remains constant. This is because the larger sample size provides a more precise estimate of the population mean."
   ]
  },
  {
   "cell_type": "code",
   "execution_count": 2,
   "id": "477d1cc1",
   "metadata": {},
   "outputs": [
    {
     "name": "stdout",
     "output_type": "stream",
     "text": [
      "Z-score: 1.00\n"
     ]
    }
   ],
   "source": [
    "# Given data\n",
    "data_point = 75\n",
    "population_mean = 70\n",
    "population_std_dev = 5\n",
    "\n",
    "z_score = (data_point - population_mean) / population_std_dev\n",
    "\n",
    "print(f\"Z-score: {z_score:.2f}\")\n"
   ]
  },
  {
   "cell_type": "code",
   "execution_count": 3,
   "id": "291ecccb",
   "metadata": {},
   "outputs": [
    {
     "name": "stdout",
     "output_type": "stream",
     "text": [
      "T-statistic: 16.97, P-value: 0.0000\n",
      "Reject the null hypothesis\n"
     ]
    }
   ],
   "source": [
    "from scipy.stats import t\n",
    "\n",
    "# Given data\n",
    "sample_mean = 6\n",
    "population_mean = 0\n",
    "sample_std_dev = 2.5\n",
    "sample_size = 50\n",
    "alpha = 0.05\n",
    "\n",
    "df = sample_size - 1\n",
    "t_stat = (sample_mean - population_mean) / (sample_std_dev / np.sqrt(sample_size))\n",
    "p_value = 2 * (1 - t.cdf(abs(t_stat), df))\n",
    "\n",
    "print(f\"T-statistic: {t_stat:.2f}, P-value: {p_value:.4f}\")\n",
    "\n",
    "if p_value < alpha:\n",
    "    print(\"Reject the null hypothesis\")\n",
    "else:\n",
    "    print(\"Fail to reject the null hypothesis\")"
   ]
  },
  {
   "cell_type": "code",
   "execution_count": 4,
   "id": "5b8c4cf2",
   "metadata": {},
   "outputs": [
    {
     "name": "stdout",
     "output_type": "stream",
     "text": [
      "95% confidence interval for the true proportion: (0.6082, 0.6918)\n"
     ]
    }
   ],
   "source": [
    "# Given data\n",
    "sample_proportion = 0.65\n",
    "sample_size = 500\n",
    "confidence_level = 0.95\n",
    "\n",
    "z_critical = stats.norm.ppf(1 - (1 - confidence_level) / 2)\n",
    "se = np.sqrt(sample_proportion * (1 - sample_proportion) / sample_size)\n",
    "margin_of_error = z_critical * se\n",
    "ci_lower = sample_proportion - margin_of_error\n",
    "ci_upper = sample_proportion + margin_of_error\n",
    "\n",
    "print(f\"95% confidence interval for the true proportion: ({ci_lower:.4f}, {ci_upper:.4f})\")"
   ]
  },
  {
   "cell_type": "code",
   "execution_count": 5,
   "id": "af6eb1d9",
   "metadata": {},
   "outputs": [
    {
     "name": "stdout",
     "output_type": "stream",
     "text": [
      "T-statistic: 2.10, P-value: 0.0397\n",
      "Fail to reject the null hypothesis\n"
     ]
    }
   ],
   "source": [
    "# Given data\n",
    "mean_A, std_A, n_A = 85, 6, 30\n",
    "mean_B, std_B, n_B = 82, 5, 30\n",
    "alpha = 0.01\n",
    "\n",
    "# Pooled standard deviation\n",
    "sp = np.sqrt(((n_A - 1)*std_A**2 + (n_B - 1)*std_B**2) / (n_A + n_B - 2))\n",
    "# Standard error\n",
    "se = sp * np.sqrt(1/n_A + 1/n_B)\n",
    "# t-statistic\n",
    "t_stat = (mean_A - mean_B) / se\n",
    "# Degrees of freedom\n",
    "df = n_A + n_B - 2\n",
    "# p-value (two-tailed)\n",
    "p_value = 2 * (1 - t.cdf(abs(t_stat), df))\n",
    "\n",
    "print(f\"T-statistic: {t_stat:.2f}, P-value: {p_value:.4f}\")\n",
    "\n",
    "if p_value < alpha:\n",
    "    print(\"Reject the null hypothesis\")\n",
    "else:\n",
    "    print(\"Fail to reject the null hypothesis\")\n"
   ]
  },
  {
   "cell_type": "code",
   "execution_count": 6,
   "id": "2a25c9c3",
   "metadata": {},
   "outputs": [
    {
     "name": "stdout",
     "output_type": "stream",
     "text": [
      "90% confidence interval: (63.14, 66.86)\n"
     ]
    }
   ],
   "source": [
    "# Given data\n",
    "sample_mean = 65\n",
    "population_std_dev = 8\n",
    "sample_size = 50\n",
    "confidence_level = 0.90\n",
    "\n",
    "# z-critical value for 90% confidence level\n",
    "z_critical = stats.norm.ppf(1 - (1 - confidence_level) / 2)\n",
    "\n",
    "# Standard error\n",
    "se = population_std_dev / np.sqrt(sample_size)\n",
    "\n",
    "# Margin of error\n",
    "margin_of_error = z_critical * se\n",
    "\n",
    "# Confidence interval\n",
    "ci_lower = sample_mean - margin_of_error\n",
    "ci_upper = sample_mean + margin_of_error\n",
    "\n",
    "print(f\"90% confidence interval: ({ci_lower:.2f}, {ci_upper:.2f})\")\n"
   ]
  },
  {
   "cell_type": "code",
   "execution_count": 7,
   "id": "f66dbbed",
   "metadata": {},
   "outputs": [
    {
     "name": "stdout",
     "output_type": "stream",
     "text": [
      "T-statistic: -5.48, P-value: 0.0000\n",
      "Reject the null hypothesis\n"
     ]
    }
   ],
   "source": [
    "# Given data\n",
    "sample_mean = 0.25\n",
    "population_mean = 0.3\n",
    "sample_std_dev = 0.05\n",
    "sample_size = 30\n",
    "alpha = 0.10\n",
    "\n",
    "# Degrees of freedom\n",
    "df = sample_size - 1\n",
    "# t-statistic\n",
    "t_stat = (sample_mean - population_mean) / (sample_std_dev / np.sqrt(sample_size))\n",
    "# p-value (two-tailed)\n",
    "p_value = 2 * (1 - t.cdf(abs(t_stat), df))\n",
    "\n",
    "print(f\"T-statistic: {t_stat:.2f}, P-value: {p_value:.4f}\")\n",
    "\n",
    "if p_value < alpha:\n",
    "    print(\"Reject the null hypothesis\")\n",
    "else:\n",
    "    print(\"Fail to reject the null hypothesis\")\n"
   ]
  },
  {
   "cell_type": "code",
   "execution_count": null,
   "id": "c27a37f6",
   "metadata": {},
   "outputs": [],
   "source": []
  }
 ],
 "metadata": {
  "kernelspec": {
   "display_name": "Python 3 (ipykernel)",
   "language": "python",
   "name": "python3"
  },
  "language_info": {
   "codemirror_mode": {
    "name": "ipython",
    "version": 3
   },
   "file_extension": ".py",
   "mimetype": "text/x-python",
   "name": "python",
   "nbconvert_exporter": "python",
   "pygments_lexer": "ipython3",
   "version": "3.9.13"
  }
 },
 "nbformat": 4,
 "nbformat_minor": 5
}
