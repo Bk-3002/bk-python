{
 "cells": [
  {
   "cell_type": "markdown",
   "id": "1bc23bb8",
   "metadata": {},
   "source": [
    "Q1. Explain the assumptions required to use ANOVA and provide examples of violations that could impact the validity of the results.\n",
    "Assumptions for ANOVA:\n",
    "\n",
    "Independence of Observations: Each group must be composed of independent observations. For example, one person’s score should not influence another person’s score.\n",
    "\n",
    "Violation Example: If participants in one group are friends and discuss the experiment, this could influence their responses.\n",
    "Normality: The data within each group should be approximately normally distributed.\n",
    "\n",
    "Violation Example: If the data are heavily skewed or contain outliers, this could impact the ANOVA results.\n",
    "Homogeneity of Variances (Homoscedasticity): The variance among the groups should be approximately equal.\n",
    "\n",
    "Violation Example: If one group has a much larger variance than the others, the assumption is violated, leading to potentially invalid results.\n",
    "Impact of Violations:\n",
    "\n",
    "Independence Violation: Can lead to underestimated variability and inflated Type I error rates.\n",
    "Normality Violation: ANOVA is robust to moderate violations of normality, but severe violations can affect Type I error rates and power.\n",
    "Homogeneity of Variances Violation: Can lead to inaccurate F-statistics and p-values. In such cases, corrections like Welch’s ANOVA might be used.\n",
    "Q2. What are the three types of ANOVA, and in what situations would each be used?\n",
    "One-Way ANOVA:\n",
    "\n",
    "Use: When comparing the means of three or more independent groups based on one factor.\n",
    "Example: Comparing test scores of students from three different teaching methods.\n",
    "Two-Way ANOVA:\n",
    "\n",
    "Use: When comparing the means across two factors, allowing for the examination of interaction effects between the factors.\n",
    "Example: Examining the effect of teaching method (three levels) and gender (two levels) on test scores.\n",
    "Repeated Measures ANOVA:\n",
    "\n",
    "Use: When comparing the means of three or more groups where the same subjects are measured multiple times.\n",
    "Example: Measuring the effect of different diets on the same group of participants over three months.\n",
    "Q3. What is the partitioning of variance in ANOVA, and why is it important to understand this concept?\n",
    "Partitioning of Variance in ANOVA:\n",
    "\n",
    "ANOVA breaks down the total variability in the data into two components: variability between groups and variability within groups.\n",
    "Total Sum of Squares (SST): Represents the total variability in the data.\n",
    "Between-Group Sum of Squares (SSB or SSE): Represents the variability due to differences between group means.\n",
    "Within-Group Sum of Squares (SSW or SSR): Represents the variability within each group.\n",
    "Importance:\n",
    "\n",
    "Understanding the partitioning helps in identifying how much of the total variability is explained by the factor(s) being studied. It is crucial for calculating the F-statistic and for determining if the observed group differences are statistically significant.\n",
    "Q4. How would you calculate the total sum of squares (SST), explained sum of squares (SSE), and residual sum of squares (SSR) in a one-way ANOVA using Python?"
   ]
  },
  {
   "cell_type": "code",
   "execution_count": 1,
   "id": "9744ac5d",
   "metadata": {},
   "outputs": [
    {
     "data": {
      "text/plain": [
       "(68.88888888888889, 60.2222222222222, 8.666666666666666)"
      ]
     },
     "execution_count": 1,
     "metadata": {},
     "output_type": "execute_result"
    }
   ],
   "source": [
    "import numpy as np\n",
    "\n",
    "# Example data\n",
    "group1 = [23, 20, 22]\n",
    "group2 = [27, 29, 28]\n",
    "group3 = [25, 26, 24]\n",
    "\n",
    "# Combine data\n",
    "data = np.array(group1 + group2 + group3)\n",
    "group_labels = ['group1'] * len(group1) + ['group2'] * len(group2) + ['group3'] * len(group3)\n",
    "\n",
    "# Calculate means\n",
    "overall_mean = np.mean(data)\n",
    "means = {label: np.mean(data[np.array(group_labels) == label]) for label in set(group_labels)}\n",
    "\n",
    "# Calculate SST\n",
    "sst = np.sum((data - overall_mean) ** 2)\n",
    "\n",
    "# Calculate SSE (Between-group sum of squares)\n",
    "sse = np.sum([len(data[np.array(group_labels) == label]) * (mean - overall_mean) ** 2 for label, mean in means.items()])\n",
    "\n",
    "# Calculate SSR (Within-group sum of squares)\n",
    "ssr = np.sum([(value - means[label]) ** 2 for value, label in zip(data, group_labels)])\n",
    "\n",
    "sst, sse, ssr\n"
   ]
  },
  {
   "cell_type": "code",
   "execution_count": 3,
   "id": "b2442095",
   "metadata": {},
   "outputs": [],
   "source": [
    "import pandas as pd\n",
    "import statsmodels.api as sm\n",
    "from statsmodels.formula.api import ols\n",
    "\n",
    "# Example data\n",
    "data = {\n",
    "    'Factor1': ['A', 'A', 'A', 'B', 'B', 'B', 'C', 'C', 'C'],\n",
    "    'Factor2': ['X', 'Y', 'Z', 'X', 'Y', 'Z', 'X', 'Y', 'Z'],\n",
    "    'Value': [23, 20, 22, 27, 29, 28, 25, 26, 24]\n",
    "}\n",
    "df = pd.DataFrame(data)\n",
    "\n",
    "# Fit the model\n",
    "model = ols('Value ~ C(Factor1) * C(Factor2)', data=df).fit()\n",
    "anova_table = sm.stats.anova_lm(model, typ=2)\n",
    "\n",
    "anova_table\n"
   ]
  },
  {
   "cell_type": "markdown",
   "id": "ed03655f",
   "metadata": {},
   "source": [
    "Q6. Suppose you conducted a one-way ANOVA and obtained an F-statistic of 5.23 and a p-value of 0.02. What can you conclude about the differences between the groups, and how would you interpret these results?\n",
    "Conclusion:\n",
    "\n",
    "The p-value (0.02) is less than the significance level (typically 0.05), so we reject the null hypothesis.\n",
    "Interpretation:\n",
    "\n",
    "There is statistically significant evidence to suggest that there are differences between the group means. The F-statistic of 5.23 indicates that the variance between the groups is larger than the variance within the groups, supporting the conclusion of significant differences.\n",
    "Q7. In a repeated measures ANOVA, how would you handle missing data, and what are the potential consequences of using different methods to handle missing data?\n",
    "Handling Missing Data:\n",
    "\n",
    "Listwise Deletion: Exclude any participant with missing data. This can reduce sample size and power.\n",
    "Pairwise Deletion: Use all available data points without excluding entire participants.\n",
    "Imputation: Replace missing values with estimated ones, such as mean imputation, regression imputation, or multiple imputation.\n",
    "Mixed-Effects Models: These models can handle missing data by modeling the random effects.\n",
    "Potential Consequences:\n",
    "\n",
    "Listwise Deletion: Can lead to biased results if the data are not missing completely at random.\n",
    "Pairwise Deletion: Can lead to inconsistent results across different analyses.\n",
    "Imputation: Can introduce bias if the imputation method is not appropriate.\n",
    "Mixed-Effects Models: Generally more robust but require more complex statistical techniques.\n",
    "Q8. What are some common post-hoc tests used after ANOVA, and when would you use each one? Provide an example of a situation where a post-hoc test might be necessary.\n",
    "Common Post-Hoc Tests:\n",
    "\n",
    "Tukey’s Honestly Significant Difference (HSD): Used when you need to compare all possible pairs of group means. Suitable for equal sample sizes.\n",
    "\n",
    "Example: Comparing test scores across multiple teaching methods to identify which pairs of methods differ significantly.\n",
    "Bonferroni Correction: Adjusts p-values to control for Type I error rate when making multiple comparisons. Suitable for fewer comparisons.\n",
    "\n",
    "Example: Comparing mean blood pressure levels between three different medications.\n",
    "Scheffé’s Method: More conservative and used for all possible contrasts. Suitable for complex comparisons.\n",
    "\n",
    "Example: Comparing various diet plans and their effects on weight loss.\n",
    "Dunnett’s Test: Compares each treatment group to a single control group.\n",
    "\n",
    "Example: Comparing the efficacy of several new drugs to a standard drug.\n",
    "Example Situation:\n",
    "\n",
    "After conducting a one-way ANOVA to compare the mean test scores across four different teaching methods, you find a significant effect. A post-hoc test, like Tukey’s HSD, would be necessary to determine which specific teaching methods differ from each other."
   ]
  },
  {
   "cell_type": "code",
   "execution_count": null,
   "id": "e5889f39",
   "metadata": {},
   "outputs": [],
   "source": []
  }
 ],
 "metadata": {
  "kernelspec": {
   "display_name": "Python 3 (ipykernel)",
   "language": "python",
   "name": "python3"
  },
  "language_info": {
   "codemirror_mode": {
    "name": "ipython",
    "version": 3
   },
   "file_extension": ".py",
   "mimetype": "text/x-python",
   "name": "python",
   "nbconvert_exporter": "python",
   "pygments_lexer": "ipython3",
   "version": "3.9.13"
  }
 },
 "nbformat": 4,
 "nbformat_minor": 5
}
