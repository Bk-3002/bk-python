{
 "cells": [
  {
   "cell_type": "markdown",
   "id": "c0f0320e",
   "metadata": {},
   "source": [
    "Q1. What are the three measures of central tendency?\n",
    "The three measures of central tendency are:\n",
    "\n",
    "Mean\n",
    "Median\n",
    "Mode\n",
    "Q2. What is the difference between the mean, median, and mode? How are they used to measure the central tendency of a dataset?\n",
    "Mean:\n",
    "Definition: The mean is the average of all the data points. It is calculated by summing all the values and dividing by the number of values.\n",
    "Use: It provides a measure of central location and is used when data is evenly distributed without extreme outliers.\n",
    "Median:\n",
    "Definition: The median is the middle value of an ordered dataset. If the dataset has an even number of observations, the median is the average of the two middle numbers.\n",
    "Use: It is used to describe the central tendency when the data is skewed or has outliers, as it is not affected by extreme values.\n",
    "Mode:\n",
    "Definition: The mode is the value that occurs most frequently in a dataset.\n",
    "Use: It is useful for categorical data to identify the most common category, and for numerical data to identify the most common value"
   ]
  },
  {
   "cell_type": "code",
   "execution_count": 7,
   "id": "59be7961",
   "metadata": {},
   "outputs": [],
   "source": [
    "#Q3. Measure the three measures of central tendency for the given height data: [178, 177, 176, 177, 178.2, 178, 175, 179, 180, 175, 178.9, 176.2, 177, 172.5, 178, 176.5]\n",
    "\n",
    "import numpy as np\n",
    "from scipy import stats\n",
    "\n",
    "data = [178, 177, 176, 177, 178.2, 178, 175, 179, 180, 175, 178.9, 176.2, 177, 172.5, 178, 176.5]\n",
    "\n",
    "mean = np.mean(data)\n",
    "\n",
    "median = np.median(data)\n",
    "\n",
    "mode = stats.mode(data)\n",
    "\n",
    "print(mean)\n",
    "print(median)\n",
    "print(mode)"
   ]
  },
  {
   "cell_type": "code",
   "execution_count": 5,
   "id": "46ba9776",
   "metadata": {},
   "outputs": [
    {
     "data": {
      "text/plain": [
       "1.7885814036548633"
      ]
     },
     "execution_count": 5,
     "metadata": {},
     "output_type": "execute_result"
    }
   ],
   "source": [
    "#Q4. Find the standard deviation for the given data: [178, 177, 176, 177, 178.2, 178, 175, 179, 180, 175, 178.9, 176.2, 177, 172.5, 178, 176.5]\n",
    "\n",
    "std_dev = np.std(data)\n",
    "\n",
    "std_dev\n"
   ]
  },
  {
   "cell_type": "markdown",
   "id": "e38ba6e4",
   "metadata": {},
   "source": [
    "Q5. How are measures of dispersion such as range, variance, and standard deviation used to describe the spread of a dataset? Provide an example.\n",
    "Range:\n",
    "\n",
    "Definition: The range is the difference between the maximum and minimum values in a dataset.\n",
    "Use: It provides a quick sense of the spread of the data.\n",
    "Example: For the data [1, 2, 3, 4, 5], the range is 5 - 1 = 4.\n",
    "Variance:\n",
    "\n",
    "Definition: Variance measures the average squared deviation of each data point from the mean.\n",
    "Use: It gives a sense of how much the data points are spread out around the mean.\n",
    "Example: For the data [1, 2, 3, 4, 5], the variance is 2.5.\n",
    "Standard Deviation:\n",
    "\n",
    "Definition: The standard deviation is the square root of the variance.\n",
    "Use: It provides a measure of spread in the same units as the data.\n",
    "Example: For the data [1, 2, 3, 4, 5], the standard deviation is √2.5 ≈ 1.58.\n",
    "Q6. What is a Venn diagram?\n",
    "A Venn diagram is a graphical representation of the relationships between different sets. It uses circles to depict sets and their relationships with each other, including intersections, unions, and differences.\n",
    "\n",
    "Q7. \n",
    "\n",
    "Intersection (A ∩ B):\n",
    "\n",
    "Elements common to both sets.\n",
    "\n",
    "A∩B={2,6}\n",
    "Union (A ∪ B):\n",
    "\n",
    "All elements from both sets, without duplicates.\n",
    "\n",
    "A∪B={0,2,3,4,5,6,7,8,10}\n",
    "Q8. What do you understand about skewness in data?\n",
    "Skewness is a measure of the asymmetry of the distribution of values in a dataset.\n",
    "\n",
    "Right Skewed (Positive Skew): The tail on the right side is longer or fatter than the left side.\n",
    "Left Skewed (Negative Skew): The tail on the left side is longer or fatter than the right side.\n",
    "Q9. If data is right skewed, then what will be the position of the median with respect to the mean?\n",
    "In a right-skewed distribution, the mean is typically greater than the median.\n",
    "\n",
    "Q10. Explain the difference between covariance and correlation. How are these measures used in statistical analysis?\n",
    "Covariance:\n",
    "Definition: Covariance measures the directional relationship between two variables. It indicates how two variables change together.\n",
    "Use: Covariance is used to determine the relationship direction (positive or negative) between two variables but does not indicate the strength of the relationship.\n",
    "Correlation:\n",
    "Definition: Correlation measures both the direction and the strength of the relationship between two variables. It is a normalized form of covariance.\n",
    "Use: Correlation is used to understand the degree to which two variables move in relation to each other. It ranges from -1 to 1.\n",
    "Q11. What is the formula for calculating the sample mean? Provide an example calculation for a dataset.\n",
    "Formula:\n",
    "\n",
    "Sample Mean= (sum(xi))/n\n",
    "Example:\n",
    "For the dataset [2, 4, 6, 8, 10]:\n",
    "\n",
    "Sample Mean= \n",
    "\n",
    "2+4+6+8+10/5 =6\n",
    "Q12. For a normal distribution data, what is the relationship between its measures of central tendency?\n",
    "In a normal distribution, the mean, median, and mode are all equal and located at the center of the distribution.\n",
    "\n",
    "Q13. How is covariance different from correlation?\n",
    "Covariance indicates the direction of the linear relationship between variables, while correlation indicates both the direction and the strength of the linear relationship, normalized to a range of -1 to 1.\n",
    "\n",
    "Q14. How do outliers affect measures of central tendency and dispersion? Provide an example.\n",
    "Central Tendency:\n",
    "Outliers can significantly affect the mean, making it higher or lower than the true central value. They have less impact on the median and mode.\n",
    "Dispersion:\n",
    "Outliers increase the range, variance, and standard deviation, making the dataset appear more spread out.\n",
    "Example:\n",
    "For the dataset [1, 2, 3, 4, 5], the mean is 3 and the standard deviation is 1.58. If an outlier 100 is added, the mean becomes 19.17 and the standard deviation becomes 38.07.\n",
    "\n",
    "\n",
    "\n",
    "\n",
    "\n",
    "\n"
   ]
  }
 ],
 "metadata": {
  "kernelspec": {
   "display_name": "Python 3 (ipykernel)",
   "language": "python",
   "name": "python3"
  },
  "language_info": {
   "codemirror_mode": {
    "name": "ipython",
    "version": 3
   },
   "file_extension": ".py",
   "mimetype": "text/x-python",
   "name": "python",
   "nbconvert_exporter": "python",
   "pygments_lexer": "ipython3",
   "version": "3.9.13"
  }
 },
 "nbformat": 4,
 "nbformat_minor": 5
}
