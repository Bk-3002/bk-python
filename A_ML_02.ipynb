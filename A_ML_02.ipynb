{
 "cells": [
  {
   "cell_type": "markdown",
   "id": "24f1a2f8",
   "metadata": {},
   "source": [
    "Missing Values:\n",
    "Missing values occur when no data value is stored for a variable in an observation. This can happen for various reasons such as data entry errors, equipment malfunctions, or participants opting out of answering certain questions.\n",
    "\n",
    "Importance of Handling Missing Values:\n",
    "Handling missing values is essential because:\n",
    "Bias Reduction\n",
    "Efficiency\n",
    "Accuracy\n",
    "\n",
    "Algorithms Not Affected by Missing Values:\n",
    "Some algorithms can handle missing values natively, such as:\n",
    "Decision Trees \n",
    "Random Forests\n",
    "XGBoost\n",
    "K-Nearest Neighbors (KNN)"
   ]
  },
  {
   "cell_type": "code",
   "execution_count": 2,
   "id": "30237793",
   "metadata": {},
   "outputs": [],
   "source": [
    "#REMOVAL\n",
    "import pandas as pd\n",
    "\n",
    "df = pd.DataFrame({\n",
    "    'A': [1, 2, None, 4],\n",
    "    'B': [5, None, None, 8],\n",
    "    'C': [10, 11, 12, 13]\n",
    "})\n",
    "\n",
    "df_dropped_rows = df.dropna()\n",
    "df_dropped_columns = df.dropna(axis=1)\n",
    "\n",
    "#Imputation with Mean/Median/Mode:\n",
    "df['A'].fillna(df['A'].mean(), inplace=True)\n",
    "df['B'].fillna(df['B'].median(), inplace=True)\n",
    "#Imputation with Forward/Backward Fill:\n",
    "df['A'].fillna(method='ffill', inplace=True)\n",
    "df['B'].fillna(method='bfill', inplace=True)  \n",
    "#Imputation with Interpolation:\n",
    "df['A'].interpolate(method='linear', inplace=True)"
   ]
  },
  {
   "cell_type": "markdown",
   "id": "85faf979",
   "metadata": {},
   "source": [
    "Imbalanced Data:\n",
    "Imbalanced data refers to a dataset where the number of observations in one class is significantly higher than the number of observations in other classes. This is common in classification problems.\n",
    "\n",
    "Consequences if Not Handled:\n",
    "Bias Towards Majority Class: Models tend to be biased towards the majority class, leading to poor predictive performance on the minority class.\n",
    "Misleading Metrics: Common metrics like accuracy can be misleading as they do not account for class imbalance.\n",
    "Poor Generalization: The model may fail to generalize well to new data, especially if the minority class is underrepresented."
   ]
  },
  {
   "cell_type": "markdown",
   "id": "dcb85708",
   "metadata": {},
   "source": [
    "Up-sampling:\n",
    "Up-sampling involves increasing the number of samples in the minority class by duplicating existing samples or generating new ones.\n",
    "\n",
    "Down-sampling:\n",
    "Down-sampling involves reducing the number of samples in the majority class to balance the class distribution."
   ]
  },
  {
   "cell_type": "code",
   "execution_count": null,
   "id": "d21da25c",
   "metadata": {},
   "outputs": [],
   "source": [
    "from sklearn.utils import resample\n",
    "\n",
    "df_majority = df[df.target == 0]\n",
    "df_minority = df[df.target == 1]\n",
    "\n",
    "df_minority_upsampled = resample(df_minority, \n",
    "                                 replace=True,     \n",
    "                                 n_samples=len(df_majority),  \n",
    "                                 random_state=123) \n",
    "\n",
    "df_upsampled = pd.concat([df_majority, df_minority_upsampled])\n"
   ]
  },
  {
   "cell_type": "code",
   "execution_count": null,
   "id": "3c94ab7b",
   "metadata": {},
   "outputs": [],
   "source": [
    "from sklearn.utils import resample\n",
    "\n",
    "df_majority_downsampled = resample(df_majority, \n",
    "                                   replace=False,   \n",
    "                                   n_samples=len(df_minority),\n",
    "                                   random_state=123) \n",
    "df_downsampled = pd.concat([df_majority_downsampled, df_minority])"
   ]
  },
  {
   "cell_type": "markdown",
   "id": "c9e9f674",
   "metadata": {},
   "source": [
    "Data Augmentation:\n",
    "Data augmentation is a technique used to increase the diversity of the training set by applying random transformations to the existing data, such as rotations, shifts, or flips. It is commonly used in image processing.\n",
    "\n",
    "SMOTE (Synthetic Minority Over-sampling Technique):\n",
    "SMOTE is a specific data augmentation technique used to handle imbalanced datasets. It generates synthetic samples for the minority class by interpolating between existing minority class samples."
   ]
  },
  {
   "cell_type": "markdown",
   "id": "1643b39e",
   "metadata": {},
   "source": [
    "Outliers:\n",
    "Outliers are data points that are significantly different from the majority of the data. They can occur due to measurement errors, data entry errors, or inherent variability in the data.\n",
    "\n",
    "Importance of Handling Outliers:\n",
    "1.Distortion of Statistical Measures\n",
    "2.Model Performance\n",
    "3.Robustness"
   ]
  },
  {
   "cell_type": "markdown",
   "id": "990f7a9d",
   "metadata": {},
   "source": [
    "Techniques to Handle Missing Data:\n",
    "\n",
    "Remove Missing Data:\n",
    "Rows: Remove rows with missing values if the proportion of missing data is small.\n",
    "Columns: Remove columns with a high proportion of missing values.\n",
    "\n",
    "Imputation:\n",
    "Mean/Median/Mode Imputation: Fill missing values with mean, median, or mode of the column.\n",
    "\n",
    "Predictive Imputation:\n",
    "Use machine learning models to predict and fill missing values based on other features.\n",
    "\n",
    "Forward/Backward Fill:\n",
    "Use the previous/next value to fill missing data."
   ]
  },
  {
   "cell_type": "code",
   "execution_count": 6,
   "id": "8522c4a0",
   "metadata": {},
   "outputs": [],
   "source": [
    "from sklearn.utils import resample\n",
    "\n",
    "df_majority = df[df.satisfaction == 'satisfied']\n",
    "df_minority = df[df.satisfaction == 'unsatisfied']\n",
    "\n",
    "df_majority_downsampled = resample(df_majority,\n",
    "                                   replace=False,\n",
    "                                   n_samples=len(df_minority),\n",
    "                                   random_state=42)\n",
    "\n",
    "df_balanced = pd.concat([df_majority_downsampled, df_minority])\n"
   ]
  },
  {
   "cell_type": "code",
   "execution_count": null,
   "id": "f7931c4d",
   "metadata": {},
   "outputs": [],
   "source": [
    "from sklearn.cluster import KMeans\n",
    "\n",
    "majority_class_indices = df[df.satisfaction == 'satisfied'].index\n",
    "kmeans = KMeans(n_clusters=5, random_state=42).fit(df.loc[majority_class_indices])\n",
    "downsampled_indices = []\n",
    "\n",
    "for i in range(5):\n",
    "    cluster_indices = majority_class_indices[kmeans.labels_ == i]\n",
    "    downsampled_indices.extend(resample(cluster_indices,\n",
    "                                        replace=False,\n",
    "                                        n_samples=int(len(df_minority)/5),\n",
    "                                        random_state=42))\n",
    "\n",
    "df_downsampled = df.loc[downsampled_indices]\n",
    "df_balanced = pd.concat([df_downsampled, df[df.satisfaction == 'unsatisfied']])\n"
   ]
  },
  {
   "cell_type": "code",
   "execution_count": null,
   "id": "d85055b7",
   "metadata": {},
   "outputs": [],
   "source": []
  }
 ],
 "metadata": {
  "kernelspec": {
   "display_name": "Python 3 (ipykernel)",
   "language": "python",
   "name": "python3"
  },
  "language_info": {
   "codemirror_mode": {
    "name": "ipython",
    "version": 3
   },
   "file_extension": ".py",
   "mimetype": "text/x-python",
   "name": "python",
   "nbconvert_exporter": "python",
   "pygments_lexer": "ipython3",
   "version": "3.9.13"
  }
 },
 "nbformat": 4,
 "nbformat_minor": 5
}
