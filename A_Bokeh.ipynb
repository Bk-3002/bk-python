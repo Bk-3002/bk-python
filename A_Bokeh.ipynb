{
 "cells": [
  {
   "cell_type": "code",
   "execution_count": 1,
   "id": "a9540ba6",
   "metadata": {},
   "outputs": [],
   "source": [
    "# Import necessary libraries\n",
    "from bokeh.plotting import figure, output_file, show\n",
    "\n",
    "# Set the output file\n",
    "output_file(\"line_plot.html\")\n",
    "\n",
    "# Create a figure object\n",
    "p = figure(title=\"Simple Line Plot\", x_axis_label='x', y_axis_label='y')\n",
    "\n",
    "# Add a line renderer with legend and line thickness\n",
    "p.line([1, 2, 3, 4, 5], [6, 7, 2, 4, 5], legend_label=\"Temp.\", line_width=2)\n",
    "\n",
    "# Show the plot\n",
    "show(p)\n"
   ]
  },
  {
   "cell_type": "code",
   "execution_count": 2,
   "id": "ae22d1a2",
   "metadata": {},
   "outputs": [],
   "source": [
    "from bokeh.plotting import figure, output_file, show\n",
    "\n",
    "# Set the output file\n",
    "output_file(\"glyphs.html\")\n",
    "\n",
    "# Create a figure object\n",
    "p = figure(title=\"Different Glyphs\", x_axis_label='x', y_axis_label='y')\n",
    "\n",
    "# Add circle glyph\n",
    "p.circle([1, 2, 3, 4, 5], [6, 7, 2, 4, 5], size=10, color=\"navy\", alpha=0.5)\n",
    "\n",
    "# Add line glyph\n",
    "p.line([1, 2, 3, 4, 5], [5, 4, 3, 2, 1], line_width=2, color=\"red\", legend_label=\"Line\")\n",
    "\n",
    "# Add square glyph\n",
    "p.square([1, 2, 3, 4, 5], [1, 2, 3, 4, 5], size=12, color=\"green\", alpha=0.5, legend_label=\"Squares\")\n",
    "\n",
    "# Show the plot\n",
    "show(p)\n"
   ]
  },
  {
   "cell_type": "code",
   "execution_count": 3,
   "id": "98ec2024",
   "metadata": {},
   "outputs": [],
   "source": [
    "from bokeh.plotting import figure, output_file, show\n",
    "\n",
    "# Set the output file\n",
    "output_file(\"customized_plot.html\")\n",
    "\n",
    "# Create a figure object\n",
    "p = figure(title=\"Customized Plot\", x_axis_label='x-axis', y_axis_label='y-axis')\n",
    "\n",
    "# Add line glyph\n",
    "p.line([1, 2, 3, 4, 5], [5, 4, 3, 2, 1], line_width=2, color=\"blue\", legend_label=\"Line\")\n",
    "\n",
    "# Customize title\n",
    "p.title.text = \"My Customized Plot\"\n",
    "p.title.align = \"center\"\n",
    "p.title.text_font_size = \"20pt\"\n",
    "p.title.text_color = \"olive\"\n",
    "\n",
    "# Customize axes\n",
    "p.xaxis.axis_label = \"Custom X-axis\"\n",
    "p.yaxis.axis_label = \"Custom Y-axis\"\n",
    "p.xaxis.axis_label_text_color = \"blue\"\n",
    "p.yaxis.axis_label_text_color = \"blue\"\n",
    "p.xaxis.axis_label_standoff = 10\n",
    "p.yaxis.axis_label_standoff = 10\n",
    "\n",
    "# Customize legend\n",
    "p.legend.title = \"Legend\"\n",
    "p.legend.title_text_font_style = \"italic\"\n",
    "p.legend.title_text_color = \"black\"\n",
    "p.legend.label_text_font_size = \"12pt\"\n",
    "p.legend.label_text_color = \"black\"\n",
    "p.legend.background_fill_color = \"lightgray\"\n",
    "p.legend.border_line_width = 2\n",
    "\n",
    "# Show the plot\n",
    "show(p)\n"
   ]
  },
  {
   "cell_type": "code",
   "execution_count": null,
   "id": "a099a9b9",
   "metadata": {},
   "outputs": [],
   "source": []
  }
 ],
 "metadata": {
  "kernelspec": {
   "display_name": "Python 3 (ipykernel)",
   "language": "python",
   "name": "python3"
  },
  "language_info": {
   "codemirror_mode": {
    "name": "ipython",
    "version": 3
   },
   "file_extension": ".py",
   "mimetype": "text/x-python",
   "name": "python",
   "nbconvert_exporter": "python",
   "pygments_lexer": "ipython3",
   "version": "3.9.13"
  }
 },
 "nbformat": 4,
 "nbformat_minor": 5
}
