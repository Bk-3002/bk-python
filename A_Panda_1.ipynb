{
 "cells": [
  {
   "cell_type": "code",
   "execution_count": 1,
   "id": "5c2305e5",
   "metadata": {},
   "outputs": [
    {
     "name": "stdout",
     "output_type": "stream",
     "text": [
      "0     4\n",
      "1     8\n",
      "2    15\n",
      "3    16\n",
      "4    23\n",
      "5    42\n",
      "dtype: int64\n"
     ]
    }
   ],
   "source": [
    "import pandas as pd\n",
    "\n",
    "# Creating the Series\n",
    "data = [4, 8, 15, 16, 23, 42]\n",
    "series = pd.Series(data)\n",
    "\n",
    "# Printing the Series\n",
    "print(series)\n"
   ]
  },
  {
   "cell_type": "code",
   "execution_count": 2,
   "id": "b850cc7b",
   "metadata": {},
   "outputs": [
    {
     "name": "stdout",
     "output_type": "stream",
     "text": [
      "0     1\n",
      "1     2\n",
      "2     3\n",
      "3     4\n",
      "4     5\n",
      "5     6\n",
      "6     7\n",
      "7     8\n",
      "8     9\n",
      "9    10\n",
      "dtype: int64\n"
     ]
    }
   ],
   "source": [
    "my_list = [1, 2, 3, 4, 5, 6, 7, 8, 9, 10]\n",
    "series_from_list = pd.Series(my_list)\n",
    "print(series_from_list)\n"
   ]
  },
  {
   "cell_type": "code",
   "execution_count": 3,
   "id": "ffeea405",
   "metadata": {},
   "outputs": [
    {
     "name": "stdout",
     "output_type": "stream",
     "text": [
      "      Name  Age         City\n",
      "0    Alice   24     New York\n",
      "1      Bob   27  Los Angeles\n",
      "2  Charlie   22      Chicago\n",
      "3    David   32      Houston\n"
     ]
    }
   ],
   "source": [
    "\n",
    "data = {\n",
    "    'Name': ['Alice', 'Bob', 'Charlie', 'David'],\n",
    "    'Age': [24, 27, 22, 32],\n",
    "    'City': ['New York', 'Los Angeles', 'Chicago', 'Houston']\n",
    "}\n",
    "df = pd.DataFrame(data)\n",
    "print(df)\n"
   ]
  },
  {
   "cell_type": "markdown",
   "id": "b5c79b95",
   "metadata": {},
   "source": [
    "A DataFrame in pandas is a two-dimensional, size-mutable, and potentially heterogeneous tabular data structure with labeled axes (rows and columns). A Series, on the other hand, is a one-dimensional array-like object containing an array of data and an associated array of data labels, called its index."
   ]
  },
  {
   "cell_type": "code",
   "execution_count": 4,
   "id": "96ae5c11",
   "metadata": {},
   "outputs": [
    {
     "name": "stdout",
     "output_type": "stream",
     "text": [
      "Series:\n",
      "0    1\n",
      "1    2\n",
      "2    3\n",
      "3    4\n",
      "4    5\n",
      "dtype: int64\n",
      "\n",
      "DataFrame:\n",
      "   Column1 Column2\n",
      "0        1       A\n",
      "1        2       B\n",
      "2        3       C\n",
      "3        4       D\n",
      "4        5       E\n"
     ]
    }
   ],
   "source": [
    "series_example = pd.Series([1, 2, 3, 4, 5])\n",
    "print(\"Series:\")\n",
    "print(series_example)\n",
    "\n",
    "data_example = {\n",
    "    'Column1': [1, 2, 3, 4, 5],\n",
    "    'Column2': ['A', 'B', 'C', 'D', 'E']\n",
    "}\n",
    "df_example = pd.DataFrame(data_example)\n",
    "print(\"\\nDataFrame:\")\n",
    "print(df_example)"
   ]
  },
  {
   "cell_type": "markdown",
   "id": "ee5e1f37",
   "metadata": {},
   "source": [
    "Q5. What are some common functions you can use to manipulate data in a Pandas DataFrame? Can you give an example of when you might use one of these functions?\n",
    "Some common functions for data manipulation in a Pandas DataFrame include:\n",
    "\n",
    "head(): Returns the first n rows of the DataFrame.\n",
    "tail(): Returns the last n rows of the DataFrame.\n",
    "describe(): Generates descriptive statistics.\n",
    "drop(): Removes rows or columns.\n",
    "groupby(): Groups the data based on some criteria.\n",
    "merge(): Merges two DataFrames"
   ]
  },
  {
   "cell_type": "code",
   "execution_count": 5,
   "id": "eddca1fc",
   "metadata": {},
   "outputs": [
    {
     "name": "stdout",
     "output_type": "stream",
     "text": [
      "             Age\n",
      "count   4.000000\n",
      "mean   26.250000\n",
      "std     4.349329\n",
      "min    22.000000\n",
      "25%    23.500000\n",
      "50%    25.500000\n",
      "75%    28.250000\n",
      "max    32.000000\n"
     ]
    }
   ],
   "source": [
    "data = {\n",
    "    'Name': ['Alice', 'Bob', 'Charlie', 'David'],\n",
    "    'Age': [24, 27, 22, 32],\n",
    "    'City': ['New York', 'Los Angeles', 'Chicago', 'Houston']\n",
    "}\n",
    "df = pd.DataFrame(data)\n",
    "df_dropped = df.drop(columns=['City'])\n",
    "summary = df_dropped.describe()\n",
    "print(summary)"
   ]
  },
  {
   "cell_type": "markdown",
   "id": "7d712d27",
   "metadata": {},
   "source": [
    "6. Which of the following is mutable in nature Series, DataFrame, Panel?\n",
    "Both Series and DataFrame are mutable in nature. However, Panel has been deprecated in the latest versions of pandas."
   ]
  },
  {
   "cell_type": "code",
   "execution_count": 6,
   "id": "37bc542e",
   "metadata": {},
   "outputs": [
    {
     "name": "stdout",
     "output_type": "stream",
     "text": [
      "   A  B     C\n",
      "0  1  a  10.1\n",
      "1  2  b  10.2\n",
      "2  3  c  10.3\n",
      "3  4  d  10.4\n",
      "4  5  e  10.5\n"
     ]
    }
   ],
   "source": [
    "# Creating multiple Series\n",
    "series1 = pd.Series([1, 2, 3, 4, 5], name='A')\n",
    "series2 = pd.Series(['a', 'b', 'c', 'd', 'e'], name='B')\n",
    "series3 = pd.Series([10.1, 10.2, 10.3, 10.4, 10.5], name='C')\n",
    "\n",
    "df_from_series = pd.concat([series1, series2, series3], axis=1)\n",
    "\n",
    "print(df_from_series)\n"
   ]
  },
  {
   "cell_type": "code",
   "execution_count": null,
   "id": "c1237b3c",
   "metadata": {},
   "outputs": [],
   "source": []
  }
 ],
 "metadata": {
  "kernelspec": {
   "display_name": "Python 3 (ipykernel)",
   "language": "python",
   "name": "python3"
  },
  "language_info": {
   "codemirror_mode": {
    "name": "ipython",
    "version": 3
   },
   "file_extension": ".py",
   "mimetype": "text/x-python",
   "name": "python",
   "nbconvert_exporter": "python",
   "pygments_lexer": "ipython3",
   "version": "3.9.13"
  }
 },
 "nbformat": 4,
 "nbformat_minor": 5
}
