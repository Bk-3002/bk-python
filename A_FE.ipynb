{
 "cells": [
  {
   "cell_type": "markdown",
   "id": "f6d702a2",
   "metadata": {},
   "source": [
    "Q1. What is data encoding? How is it useful in data science?\n",
    "Data Encoding:\n",
    "Data encoding is the process of converting categorical data into a numerical format that can be used by machine learning algorithms. Since most machine learning models require numerical input, encoding is an essential step in the preprocessing phase of data science.\n",
    "\n",
    "Uses in Data Science:\n",
    "\n",
    "Model Compatibility: Many machine learning algorithms, such as linear regression, support vector machines, and neural networks, require numerical input.\n",
    "Improved Performance: Proper encoding can help models to learn patterns better by representing categorical data in a more informative way.\n",
    "Handling Categorical Variables: Encoding allows categorical variables to be included in models that otherwise only work with numerical data.\n",
    "Q2. What is nominal encoding? Provide an example of how you would use it in a real-world scenario.\n",
    "Nominal Encoding:\n",
    "Nominal encoding (also known as label encoding) assigns a unique integer to each category of a categorical variable. This type of encoding is typically used when the categorical variable does not have an inherent order.\n",
    "\n",
    "Example:\n",
    "Consider a dataset of a retail store with a categorical feature Department that includes categories such as \"Electronics\", \"Clothing\", and \"Groceries\". Using nominal encoding, these categories could be encoded as follows:\n",
    "Department\tEncoded Value\n",
    "Electronics\t0\n",
    "Clothing\t1\n",
    "Groceries\t2"
   ]
  },
  {
   "cell_type": "markdown",
   "id": "6f1651e4",
   "metadata": {},
   "source": [
    "Q3. In what situations is nominal encoding preferred over one-hot encoding? Provide a practical example.\n",
    "Situations for Nominal Encoding:\n",
    "Nominal encoding is preferred over one-hot encoding when:\n",
    "\n",
    "High Cardinality: When the categorical variable has many unique values, one-hot encoding can create a large number of features, leading to high dimensionality and potential overfitting.\n",
    "Ordinal Data with No Natural Order: If the categorical data does not have a meaningful order, nominal encoding can simplify the representation.\n",
    "Example:\n",
    "Consider a dataset of a company's employees with a feature Employee ID with unique values for each employee. Using one-hot encoding here would create as many columns as there are employees, which is impractical and not meaningful. Instead, nominal encoding can represent each employee with a unique integer.\n",
    "\n",
    "Q4. Suppose you have a dataset containing categorical data with 5 unique values. Which encoding technique would you use to transform this data into a format suitable for machine learning algorithms? Explain why you made this choice.\n",
    "For categorical data with 5 unique values, one-hot encoding is typically the preferred method. One-hot encoding creates a binary column for each category, ensuring that the machine learning algorithm does not infer any ordinal relationship between the categories.\n",
    "\n",
    "Why One-Hot Encoding:\n",
    "\n",
    "Avoids Ordinal Interpretation: Prevents the model from interpreting the encoded integers as having a meaningful order.\n",
    "Simplicity: With a small number of unique values (5 in this case), one-hot encoding will not create an excessive number of columns."
   ]
  },
  {
   "cell_type": "code",
   "execution_count": 1,
   "id": "27eee271",
   "metadata": {},
   "outputs": [
    {
     "name": "stdout",
     "output_type": "stream",
     "text": [
      "   Category_A  Category_B  Category_C  Category_D  Category_E\n",
      "0         1.0         0.0         0.0         0.0         0.0\n",
      "1         0.0         1.0         0.0         0.0         0.0\n",
      "2         0.0         0.0         1.0         0.0         0.0\n",
      "3         0.0         0.0         0.0         1.0         0.0\n",
      "4         0.0         0.0         0.0         0.0         1.0\n"
     ]
    }
   ],
   "source": [
    "import pandas as pd\n",
    "from sklearn.preprocessing import OneHotEncoder\n",
    "\n",
    "data = pd.DataFrame({'Category': ['A', 'B', 'C', 'D', 'E']})\n",
    "encoder = OneHotEncoder(sparse=False)\n",
    "encoded_data = encoder.fit_transform(data[['Category']])\n",
    "\n",
    "encoded_df = pd.DataFrame(encoded_data, columns=encoder.get_feature_names_out(['Category']))\n",
    "print(encoded_df)"
   ]
  },
  {
   "cell_type": "markdown",
   "id": "3194255c",
   "metadata": {},
   "source": [
    "Q5. In a machine learning project, you have a dataset with 1000 rows and 5 columns. Two of the columns are categorical, and the remaining three columns are numerical. If you were to use nominal encoding to transform the categorical data, how many new columns would be created? Show your calculations.\n",
    "Assumptions:\n",
    "\n",
    "Each categorical column has n unique values.\n",
    "Calculations:\n",
    "\n",
    "Nominal encoding transforms each categorical value to an integer. Therefore, each categorical column remains as one column.\n",
    "Example:\n",
    "If the two categorical columns are Gender with values [\"Male\", \"Female\"] and Department with values [\"HR\", \"Finance\", \"Engineering\"], after nominal encoding, the number of columns remains unchanged.\n",
    "\n",
    "Result:\n",
    "\n",
    "Total columns after nominal encoding: 5 (3 numerical + 2 categorical, each transformed into one column).\n",
    "Q6. You are working with a dataset containing information about different types of animals, including their species, habitat, and diet. Which encoding technique would you use to transform the categorical data into a format suitable for machine learning algorithms? Justify your answer.\n",
    "For a dataset containing categorical features like species, habitat, and diet:\n",
    "\n",
    "Recommended Encoding Techniques:\n",
    "\n",
    "One-Hot Encoding: For features where the categories do not have an inherent order (e.g., species and habitat).\n",
    "Label Encoding: For features where the categories have a natural order or if the cardinality is very high (though one-hot encoding can still be used if the cardinality is manageable).\n",
    "Justification:\n",
    "\n",
    "Species and Habitat: One-hot encoding is preferred as these categories do not have an inherent order and to prevent the model from assuming any ordinal relationship.\n",
    "Diet: If the diet categories (e.g., herbivore, carnivore, omnivore) have a natural order or logical progression, label encoding might be considered. However, typically, one-hot encoding is also suitable here.\n",
    "Q7. You are working on a project that involves predicting customer churn for a telecommunications company. You have a dataset with 5 features, including the customer's gender, age, contract type, monthly charges, and tenure. Which encoding technique(s) would you use to transform the categorical data into numerical data? Provide a step-by-step explanation of how you would implement the encoding.\n",
    "Steps:\n",
    "\n",
    "Identify Categorical Features:\n",
    "\n",
    "gender\n",
    "contract type\n",
    "Choose Encoding Techniques:\n",
    "\n",
    "Gender: One-hot encoding (if only two categories like Male and Female, label encoding can also be used).\n",
    "Contract Type: One-hot encoding (if multiple contract types, such as monthly, yearly, etc.)."
   ]
  },
  {
   "cell_type": "code",
   "execution_count": 2,
   "id": "3a30d6b7",
   "metadata": {},
   "outputs": [
    {
     "name": "stdout",
     "output_type": "stream",
     "text": [
      "   age  monthly_charges  tenure  gender_Female  gender_Male  \\\n",
      "0   34               50      12            0.0          1.0   \n",
      "1   45               70      24            1.0          0.0   \n",
      "2   23               45       6            1.0          0.0   \n",
      "3   35               60      18            0.0          1.0   \n",
      "\n",
      "   contract_type_Monthly  contract_type_Yearly  \n",
      "0                    1.0                   0.0  \n",
      "1                    0.0                   1.0  \n",
      "2                    1.0                   0.0  \n",
      "3                    0.0                   1.0  \n"
     ]
    }
   ],
   "source": [
    "import pandas as pd\n",
    "from sklearn.preprocessing import OneHotEncoder\n",
    "\n",
    "# Sample data\n",
    "data = pd.DataFrame({\n",
    "    'gender': ['Male', 'Female', 'Female', 'Male'],\n",
    "    'age': [34, 45, 23, 35],\n",
    "    'contract_type': ['Monthly', 'Yearly', 'Monthly', 'Yearly'],\n",
    "    'monthly_charges': [50, 70, 45, 60],\n",
    "    'tenure': [12, 24, 6, 18]\n",
    "})\n",
    "\n",
    "encoder = OneHotEncoder(sparse=False)\n",
    "encoded_data = encoder.fit_transform(data[['gender', 'contract_type']])\n",
    "\n",
    "encoded_df = pd.DataFrame(encoded_data, columns=encoder.get_feature_names_out(['gender', 'contract_type']))\n",
    "final_data = pd.concat([data[['age', 'monthly_charges', 'tenure']], encoded_df], axis=1)\n",
    "print(final_data)\n"
   ]
  },
  {
   "cell_type": "markdown",
   "id": "ac02f126",
   "metadata": {},
   "source": [
    "Explanation:\n",
    "Gender: Use one-hot encoding to avoid implying any order.\n",
    "Contract Type: Use one-hot encoding to handle multiple categories without implying order.\n",
    "Numerical Columns: age, monthly_charges, and tenure are used as is.\n",
    "This ensures that the categorical features are transformed into a format suitable for machine learning algorithms without introducing unintended ordinal relationships."
   ]
  }
 ],
 "metadata": {
  "kernelspec": {
   "display_name": "Python 3 (ipykernel)",
   "language": "python",
   "name": "python3"
  },
  "language_info": {
   "codemirror_mode": {
    "name": "ipython",
    "version": 3
   },
   "file_extension": ".py",
   "mimetype": "text/x-python",
   "name": "python",
   "nbconvert_exporter": "python",
   "pygments_lexer": "ipython3",
   "version": "3.9.13"
  }
 },
 "nbformat": 4,
 "nbformat_minor": 5
}
