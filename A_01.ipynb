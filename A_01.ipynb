{
 "cells": [
  {
   "cell_type": "code",
   "execution_count": 1,
   "id": "61b6b735",
   "metadata": {},
   "outputs": [
    {
     "name": "stdout",
     "output_type": "stream",
     "text": [
      "{'string': 'This is a string', 'list': [1, 2, 'three'], 'float': 9.98, 'tuple': (1, 9, 9.8)}\n"
     ]
    }
   ],
   "source": [
    "data={\n",
    "    \"string\":\"This is a string\",\n",
    "    \"list\":[1,2,\"three\"],\n",
    "    \"float\":9.98,\n",
    "    \"tuple\":(1,9,9.8)\n",
    "}\n",
    "print(data)"
   ]
  },
  {
   "cell_type": "raw",
   "id": "ac57d091",
   "metadata": {},
   "source": [
    "Q2.The data types of variables:\n",
    "    var1=str\n",
    "    var2=str\n",
    "    var3=list\n",
    "    var4=int"
   ]
  },
  {
   "cell_type": "markdown",
   "id": "36d5f59e",
   "metadata": {},
   "source": [
    "Q3.\n",
    "i)/ (Division):\n",
    "\n",
    "Purpose: Performs division, calculating the quotient of two numbers.\n",
    "\n",
    "Code:\n"
   ]
  },
  {
   "cell_type": "code",
   "execution_count": 3,
   "id": "f1d14838",
   "metadata": {},
   "outputs": [
    {
     "name": "stdout",
     "output_type": "stream",
     "text": [
      "5.0\n",
      "3.3333333333333335\n"
     ]
    }
   ],
   "source": [
    "result = 10 / 2  \n",
    "print(result)\n",
    "r = 10.0 / 3  \n",
    "print(r)"
   ]
  },
  {
   "cell_type": "markdown",
   "id": "a04cba80",
   "metadata": {},
   "source": [
    "ii)% (Modulo):\n",
    "Purpose: Returns the remainder when one number is divided by another.\n",
    "Example:"
   ]
  },
  {
   "cell_type": "code",
   "execution_count": 4,
   "id": "e279dd9e",
   "metadata": {},
   "outputs": [
    {
     "name": "stdout",
     "output_type": "stream",
     "text": [
      "1\n"
     ]
    }
   ],
   "source": [
    "remainder = 10 % 3  \n",
    "print(remainder)"
   ]
  },
  {
   "cell_type": "markdown",
   "id": "0045f4a8",
   "metadata": {},
   "source": [
    "iii)// (Floor Division):\n",
    "Purpose: Performs integer division, returning the largest integer less than or equal to the result of the division.\n",
    "Example:"
   ]
  },
  {
   "cell_type": "code",
   "execution_count": 5,
   "id": "5cd2cbb6",
   "metadata": {},
   "outputs": [
    {
     "name": "stdout",
     "output_type": "stream",
     "text": [
      "3\n"
     ]
    }
   ],
   "source": [
    "floor_result = 10 // 3  \n",
    "print(floor_result)"
   ]
  },
  {
   "cell_type": "markdown",
   "id": "d50cacde",
   "metadata": {},
   "source": [
    "iV)** (Exponentiation):\n",
    "Purpose: Raises the left operand to the power of the right operand.\n",
    "Example:"
   ]
  },
  {
   "cell_type": "code",
   "execution_count": 6,
   "id": "a77efd37",
   "metadata": {},
   "outputs": [
    {
     "name": "stdout",
     "output_type": "stream",
     "text": [
      "8\n"
     ]
    }
   ],
   "source": [
    "power = 2 ** 3  \n",
    "print(power)"
   ]
  },
  {
   "cell_type": "code",
   "execution_count": 7,
   "id": "e69a9f7c",
   "metadata": {},
   "outputs": [
    {
     "name": "stdout",
     "output_type": "stream",
     "text": [
      "Element 1: Hello (<class 'str'>)\n",
      "Element 2: 3.14 (<class 'float'>)\n",
      "Element 3: True (<class 'bool'>)\n",
      "Element 4: [1, 2, 3] (<class 'list'>)\n",
      "Element 5: (4, 5, 6) (<class 'tuple'>)\n",
      "Element 6: {'name': 'Alice', 'age': 30} (<class 'dict'>)\n",
      "Element 7: None (<class 'NoneType'>)\n",
      "Element 8: <function <lambda> at 0x000001DBB389EB80> (<class 'function'>)\n",
      "Element 9: {8, 9, 7} (<class 'set'>)\n",
      "Element 10: frozenset({10, 11, 12}) (<class 'frozenset'>)\n"
     ]
    }
   ],
   "source": [
    "#Q4. Create a list containing elements of different data types\n",
    "mixed_list = [\n",
    "    \"Hello\",  \n",
    "    3.14,  \n",
    "    True,  \n",
    "    [1, 2, 3],\n",
    "    (4, 5, 6),  \n",
    "    {\n",
    "        \"name\": \"Alice\",\n",
    "        \"age\": 30\n",
    "    },  \n",
    "    None,  \n",
    "    lambda x: x * 2,  # Lambda function\n",
    "    set([7, 8, 9]),  \n",
    "    frozenset([10, 11, 12])  # Frozen set\n",
    "]\n",
    "\n",
    "for i, element in enumerate(mixed_list):\n",
    "    print(f\"Element {i+1}: {element} ({type(element)})\")\n"
   ]
  },
  {
   "cell_type": "code",
   "execution_count": 8,
   "id": "6c480dbf",
   "metadata": {},
   "outputs": [
    {
     "name": "stdout",
     "output_type": "stream",
     "text": [
      "120 is purely divisible by 3 1 times.\n"
     ]
    }
   ],
   "source": [
    "#Q5\n",
    "def is_divisible(a, b):\n",
    "    if b == 0:\n",
    "        return False, 0  \n",
    "\n",
    "    count = 0\n",
    "    while a % b == 0:\n",
    "        a //= b  \n",
    "        count += 1\n",
    "  \n",
    "    return True, count\n",
    "  \n",
    "a = 120\n",
    "b = 3\n",
    "result, num_divisions = is_divisible(a, b)\n",
    "\n",
    "if result:\n",
    "    print(f\"{a} is purely divisible by {b} {num_divisions} times.\")\n",
    "else:\n",
    "    print(f\"{a} is not purely divisible by {b}.\")\n"
   ]
  },
  {
   "cell_type": "code",
   "execution_count": 9,
   "id": "914ed29a",
   "metadata": {},
   "outputs": [
    {
     "name": "stdout",
     "output_type": "stream",
     "text": [
      "1 is not divisible by 3\n",
      "2 is not divisible by 3\n",
      "3 is divisible by 3\n",
      "4 is not divisible by 3\n",
      "5 is not divisible by 3\n",
      "6 is divisible by 3\n",
      "7 is not divisible by 3\n",
      "8 is not divisible by 3\n",
      "9 is divisible by 3\n",
      "10 is not divisible by 3\n",
      "11 is not divisible by 3\n",
      "12 is divisible by 3\n",
      "13 is not divisible by 3\n",
      "14 is not divisible by 3\n",
      "15 is divisible by 3\n",
      "16 is not divisible by 3\n",
      "17 is not divisible by 3\n",
      "18 is divisible by 3\n",
      "19 is not divisible by 3\n",
      "20 is not divisible by 3\n",
      "21 is divisible by 3\n",
      "22 is not divisible by 3\n",
      "23 is not divisible by 3\n",
      "24 is divisible by 3\n",
      "25 is not divisible by 3\n"
     ]
    }
   ],
   "source": [
    "#Q6\n",
    "int_list = [1, 2, 3, 4, 5, 6, 7, 8, 9, 10, 11, 12, 13, 14, 15, 16, 17, 18, 19, 20, 21, 22, 23, 24, 25]\n",
    "\n",
    "for num in int_list:\n",
    "    if num % 3 == 0:\n",
    "        print(f\"{num} is divisible by 3\")\n",
    "    else:\n",
    "        print(f\"{num} is not divisible by 3\")\n"
   ]
  },
  {
   "cell_type": "markdown",
   "id": "fb898509",
   "metadata": {},
   "source": [
    "#Q7\n",
    "Mutable Data Types:\n",
    "\n",
    "Definition: Can be changed or modified after creation. Changes to individual elements directly affect the original object.\n",
    "Examples:\n",
    "Lists: [1, 2, 3]. You can modify values, append, or remove elements: [1, 2, 3].append(4).\n",
    "Dictionaries: {\"name\": \"Alice\", \"age\": 30}. You can change values of existing keys or add new key-value pairs: my_dict[\"age\"] = 31.\n",
    "Sets: {1, 2, 3}. You can add or remove elements: my_set.add(4).\n",
    "\n",
    "Immutable Data Types:\n",
    "\n",
    "Definition: Cannot be changed or modified after creation. Attempting to modify them creates a new object instead.\n",
    "Examples:\n",
    "Strings: \"Hello world!\". You cannot directly change characters: my_str[0] = \"G\", instead, you'd create a new string: new_str = \"Goodbye world!\".\n",
    "Tuples: (1, 2, 3). You cannot modify elements or the size of the tuple: my_tuple[0] = 4, instead, you'd create a new tuple: new_tuple = (4, 2, 3).\n",
    "Numbers: 3.14. You cannot change the value: my_number = 2.71, instead, you'd assign a new value: my_number = 2.71.\n",
    "\n",
    "Key Differences:\n",
    "\n",
    "Mutability impacts functionality: Use mutable data types when you need to modify data in place, and immutable data types when data integrity is crucial.\n",
    "Mutable data types can reference each other: When you modify a shared mutable object, changes are reflected in all references to it. This can lead to unexpected behavior if not handled carefully.\n",
    "Immutable data types offer security and thread safety: Changes to them don't affect other parts of the program, making them useful in multithreaded environments."
   ]
  },
  {
   "cell_type": "code",
   "execution_count": 10,
   "id": "fa5a93f3",
   "metadata": {},
   "outputs": [
    {
     "name": "stdout",
     "output_type": "stream",
     "text": [
      "Modified list: [1, 4, 3, 5]\n",
      "Original string: Hello World!\n",
      "New string: Goodbye World!\n",
      "Modified dictionary: {'name': 'Alice', 'age': 31, 'city': 'New York'}\n",
      "Original tuple: (1, 2, 3)\n",
      "New tuple: (4, 2, 3)\n",
      "Modified set: {1, 2, 3, 4}\n"
     ]
    }
   ],
   "source": [
    "#CODE\n",
    "# Mutable: Lists\n",
    "\n",
    "# Create a list\n",
    "my_list = [1, 2, 3]\n",
    "\n",
    "# Modify an element\n",
    "my_list[1] = 4  # Change the second element to 4\n",
    "\n",
    "# Add an element\n",
    "my_list.append(5)  # Add 5 to the end\n",
    "\n",
    "# Print the modified list\n",
    "print(\"Modified list:\", my_list)  # Output: [1, 4, 3, 5]\n",
    "\n",
    "# Immutable: String\n",
    "\n",
    "# Create a string\n",
    "my_string = \"Hello World!\"\n",
    "\n",
    "# Attempt to modify a character (raises TypeError)\n",
    "# my_string[0] = \"G\"\n",
    "\n",
    "# Create a new string with the modification\n",
    "new_string = \"Goodbye World!\"\n",
    "\n",
    "# Print the original and new strings\n",
    "print(\"Original string:\", my_string)  # Output: Hello World!\n",
    "print(\"New string:\", new_string)  # Output: Goodbye World!\n",
    "\n",
    "# Mutable: Dictionary\n",
    "\n",
    "# Create a dictionary\n",
    "my_dict = {\"name\": \"Alice\", \"age\": 30}\n",
    "\n",
    "# Modify a value\n",
    "my_dict[\"age\"] = 31  # Change age to 31\n",
    "\n",
    "# Add a new key-value pair\n",
    "my_dict[\"city\"] = \"New York\"\n",
    "\n",
    "# Print the modified dictionary\n",
    "print(\"Modified dictionary:\", my_dict)  # Output: {\"name\": \"Alice\", \"age\": 31, \"city\": \"New York\"}\n",
    "\n",
    "# Immutable: Tuple\n",
    "\n",
    "# Create a tuple\n",
    "my_tuple = (1, 2, 3)\n",
    "\n",
    "# Attempt to modify an element (raises TypeError)\n",
    "# my_tuple[0] = 4\n",
    "\n",
    "# Create a new tuple with the modification\n",
    "new_tuple = (4, 2, 3)\n",
    "\n",
    "# Print the original and new tuples\n",
    "print(\"Original tuple:\", my_tuple)  # Output: (1, 2, 3)\n",
    "print(\"New tuple:\", new_tuple)  # Output: (4, 2, 3)\n",
    "\n",
    "# Mutable: Set\n",
    "\n",
    "# Create a set\n",
    "my_set = {1, 2, 3}\n",
    "\n",
    "# Add an element\n",
    "my_set.add(4)  # Add 4 to the set\n",
    "\n",
    "# You cannot modify individual elements in a set, but you can remove them or create a new set\n",
    "\n",
    "# Print the modified set\n",
    "print(\"Modified set:\", my_set)  # Output: {1, 2, 3, 4}\n"
   ]
  },
  {
   "cell_type": "code",
   "execution_count": null,
   "id": "bc981350",
   "metadata": {},
   "outputs": [],
   "source": []
  },
  {
   "cell_type": "code",
   "execution_count": null,
   "id": "f600b6c0",
   "metadata": {},
   "outputs": [],
   "source": []
  },
  {
   "cell_type": "code",
   "execution_count": null,
   "id": "b4b7c640",
   "metadata": {},
   "outputs": [],
   "source": []
  }
 ],
 "metadata": {
  "kernelspec": {
   "display_name": "Python 3 (ipykernel)",
   "language": "python",
   "name": "python3"
  },
  "language_info": {
   "codemirror_mode": {
    "name": "ipython",
    "version": 3
   },
   "file_extension": ".py",
   "mimetype": "text/x-python",
   "name": "python",
   "nbconvert_exporter": "python",
   "pygments_lexer": "ipython3",
   "version": "3.9.13"
  }
 },
 "nbformat": 4,
 "nbformat_minor": 5
}
