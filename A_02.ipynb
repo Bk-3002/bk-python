{
 "cells": [
  {
   "cell_type": "markdown",
   "id": "9d13678a",
   "metadata": {},
   "source": [
    "Q1. How do you comment code in Python? What are the different types of comments?"
   ]
  },
  {
   "cell_type": "markdown",
   "id": "2f2b9781",
   "metadata": {},
   "source": [
    "In Python, there are two main types of comments:\n",
    "\n",
    "Single-line comments: These are denoted by a hash symbol (#). Anything following the # on that line is considered a comment and is ignored by the Python interpreter.\n",
    "Multi-line comments (or block comments): These are denoted by a triple quote.These are strings that are not assigned to any variable and hence ignored when the code is executed."
   ]
  },
  {
   "cell_type": "code",
   "execution_count": null,
   "id": "e467f7f8",
   "metadata": {},
   "outputs": [],
   "source": [
    "# This is a single-line comment\n",
    "x = 19 # This is an inline comment\n",
    "\"\"\"\n",
    "This is a multi-line comment.\n",
    "multiple lines.\n",
    "\"\"\"\n"
   ]
  },
  {
   "cell_type": "markdown",
   "id": "c7b615bf",
   "metadata": {},
   "source": [
    "Q2. What are variables in Python? How do you declare and assign values to variables?"
   ]
  },
  {
   "cell_type": "markdown",
   "id": "5e259356",
   "metadata": {},
   "source": [
    "Variables in Python are symbolic names that reference to an object. They are created by using the assignment operator (=)."
   ]
  },
  {
   "cell_type": "code",
   "execution_count": 1,
   "id": "91bcb47f",
   "metadata": {},
   "outputs": [
    {
     "name": "stdout",
     "output_type": "stream",
     "text": [
      "100 Abc 3.14 True\n"
     ]
    }
   ],
   "source": [
    "x = 100          # Integer\n",
    "name = \"Abc\"  # String\n",
    "pi = 3.14       # Float\n",
    "a = True # Boolean\n",
    "print(x,name,pi,a)"
   ]
  },
  {
   "cell_type": "markdown",
   "id": "5f2aa08f",
   "metadata": {},
   "source": [
    "Q3. How do you convert one data type to another in Python?"
   ]
  },
  {
   "cell_type": "markdown",
   "id": "9e1bcd8a",
   "metadata": {},
   "source": [
    "Python provides built-in functions to convert between different data types. Here are some common type conversions:\n",
    "\n",
    "int(): Converts to an integer\n",
    "float(): Converts to a float\n",
    "str(): Converts to a string\n",
    "list(): Converts to a list\n",
    "tuple(): Converts to a tuple\n",
    "set(): Converts to a set"
   ]
  },
  {
   "cell_type": "code",
   "execution_count": 2,
   "id": "ba002a47",
   "metadata": {},
   "outputs": [
    {
     "name": "stdout",
     "output_type": "stream",
     "text": [
      "12345 7.0 98\n"
     ]
    }
   ],
   "source": [
    "x = \"12345\"\n",
    "y = int(x)  # Converts string to integer\n",
    "\n",
    "a = 7\n",
    "b = float(a)  # Converts integer to float\n",
    "\n",
    "num = 98\n",
    "s = str(num)  # Converts integer to string\n",
    "print(y,b,s)"
   ]
  },
  {
   "cell_type": "markdown",
   "id": "0ba47da7",
   "metadata": {},
   "source": [
    "Q4. How do you write and execute a Python script from the command line?\n",
    "--->Using a text editor to write Python code and save the file with a .py extension, for example, a.py.\n",
    "    Using cd to navigate to the directory where your script is saved.\n",
    "    python script.py\n"
   ]
  },
  {
   "cell_type": "markdown",
   "id": "cf208dbd",
   "metadata": {},
   "source": [
    "Q5. Given a list my_list = [1, 2, 3, 4, 5], write the code to slice the list and obtain the sub-list [2, 3]."
   ]
  },
  {
   "cell_type": "code",
   "execution_count": 3,
   "id": "82cd2daf",
   "metadata": {},
   "outputs": [
    {
     "name": "stdout",
     "output_type": "stream",
     "text": [
      "[2, 3]\n"
     ]
    }
   ],
   "source": [
    "my_list = [1, 2, 3, 4, 5]\n",
    "sub_list = my_list[1:3] \n",
    "print(sub_list)  "
   ]
  },
  {
   "cell_type": "markdown",
   "id": "31c8e13b",
   "metadata": {},
   "source": [
    "Q6. What is a complex number in mathematics, and how is it represented in Python?"
   ]
  },
  {
   "cell_type": "markdown",
   "id": "c31ca734",
   "metadata": {},
   "source": [
    "A complex number is a number that comprises a real part and an imaginary part. It is represented in the form a + bi, where a is the real part, b is the imaginary part, and i is the imaginary unit, which is equal to the square root of -1."
   ]
  },
  {
   "cell_type": "code",
   "execution_count": 5,
   "id": "477b371f",
   "metadata": {},
   "outputs": [
    {
     "name": "stdout",
     "output_type": "stream",
     "text": [
      "(3+4j)\n"
     ]
    }
   ],
   "source": [
    "\n",
    "z = 3 + 4j  # 3 is the real part, 4 is the imaginary part\n",
    "print(z)\n"
   ]
  },
  {
   "cell_type": "markdown",
   "id": "c63eec98",
   "metadata": {},
   "source": [
    "Q7. What is the correct way to declare a variable named age and assign the value 25 to it?"
   ]
  },
  {
   "cell_type": "markdown",
   "id": "3163ca3f",
   "metadata": {},
   "source": [
    "To declare a variable named age and assign the value 25 to it in Python, we need to use the assignment operator (=)."
   ]
  },
  {
   "cell_type": "code",
   "execution_count": 6,
   "id": "8455bfea",
   "metadata": {},
   "outputs": [
    {
     "name": "stdout",
     "output_type": "stream",
     "text": [
      "25\n"
     ]
    }
   ],
   "source": [
    "age = 25\n",
    "print(age)"
   ]
  },
  {
   "cell_type": "markdown",
   "id": "184d7f15",
   "metadata": {},
   "source": [
    "Q8. Declare a variable named price and assign the value 9.99 to it. What data type does this variable\n",
    "belong to?"
   ]
  },
  {
   "cell_type": "code",
   "execution_count": 7,
   "id": "525b0da0",
   "metadata": {},
   "outputs": [
    {
     "name": "stdout",
     "output_type": "stream",
     "text": [
      "<class 'float'>\n"
     ]
    }
   ],
   "source": [
    "# Declaring a variable named price and assigning the value 9.99\n",
    "price = 9.99\n",
    "#printing type\n",
    "print(type(price))"
   ]
  },
  {
   "cell_type": "markdown",
   "id": "7382e388",
   "metadata": {},
   "source": [
    "Q9. Create a variable named name and assign your full name to it as a string. How would you print the\n",
    "value of this variable?"
   ]
  },
  {
   "cell_type": "code",
   "execution_count": 8,
   "id": "92f35f43",
   "metadata": {},
   "outputs": [
    {
     "name": "stdout",
     "output_type": "stream",
     "text": [
      "My Name\n"
     ]
    }
   ],
   "source": [
    "name = \"My Name\"\n",
    "print(name)"
   ]
  },
  {
   "cell_type": "markdown",
   "id": "b052a44a",
   "metadata": {},
   "source": [
    "Q10. Given the string \"Hello, World!\", extract the substring \"World\"."
   ]
  },
  {
   "cell_type": "code",
   "execution_count": 9,
   "id": "db5476c4",
   "metadata": {},
   "outputs": [
    {
     "name": "stdout",
     "output_type": "stream",
     "text": [
      "World!\n"
     ]
    }
   ],
   "source": [
    "s = \"Hello, World!\"\n",
    "\n",
    "substring = s[7:]  \n",
    "print(substring) "
   ]
  },
  {
   "cell_type": "markdown",
   "id": "1ed7f49a",
   "metadata": {},
   "source": [
    "Q11. Create a variable named \"is_student\" and assign it a boolean value indicating whether you are\n",
    "currently a student or not."
   ]
  },
  {
   "cell_type": "code",
   "execution_count": 10,
   "id": "fe50bafc",
   "metadata": {},
   "outputs": [
    {
     "name": "stdout",
     "output_type": "stream",
     "text": [
      "True\n"
     ]
    }
   ],
   "source": [
    "is_student = True\n",
    "print(is_student)"
   ]
  },
  {
   "cell_type": "code",
   "execution_count": null,
   "id": "5aa4025e",
   "metadata": {},
   "outputs": [],
   "source": []
  }
 ],
 "metadata": {
  "kernelspec": {
   "display_name": "Python 3 (ipykernel)",
   "language": "python",
   "name": "python3"
  },
  "language_info": {
   "codemirror_mode": {
    "name": "ipython",
    "version": 3
   },
   "file_extension": ".py",
   "mimetype": "text/x-python",
   "name": "python",
   "nbconvert_exporter": "python",
   "pygments_lexer": "ipython3",
   "version": "3.9.13"
  }
 },
 "nbformat": 4,
 "nbformat_minor": 5
}
